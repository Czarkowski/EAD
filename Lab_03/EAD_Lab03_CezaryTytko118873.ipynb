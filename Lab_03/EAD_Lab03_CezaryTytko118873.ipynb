{
 "cells": [
  {
   "cell_type": "markdown",
   "metadata": {},
   "source": [
    "Cezary Tytko 118873"
   ]
  },
  {
   "cell_type": "code",
   "execution_count": 2,
   "id": "8ac40dced1d1fc4c",
   "metadata": {
    "ExecuteTime": {
     "end_time": "2023-11-02T17:30:20.489097100Z",
     "start_time": "2023-11-02T17:30:20.285766500Z"
    },
    "collapsed": false
   },
   "outputs": [],
   "source": [
    "import pandas as pd\n",
    "import numpy as np"
   ]
  },
  {
   "cell_type": "markdown",
   "id": "24ab3b2fb11230a4",
   "metadata": {
    "collapsed": false
   },
   "source": [
    "# Zadania do samodzielnego wykonania"
   ]
  },
  {
   "cell_type": "markdown",
   "id": "4cee95e32bcbd29e",
   "metadata": {
    "collapsed": false
   },
   "source": [
    "## Ćwiczenie 1"
   ]
  },
  {
   "cell_type": "markdown",
   "id": "92e7f08549810f76",
   "metadata": {
    "collapsed": false
   },
   "source": [
    "Podane są dwa obiekty typu Series:\n",
    "Połącz te dwa obiekty w jeden obiekt DataFrame (jako dwie kolumny) i przypisz do zmiennej df.\n",
    "Nazwij kolumny odpowiednio col1 oraz col2. Wydrukuj wynik do konsoli.\n"
   ]
  },
  {
   "cell_type": "code",
   "execution_count": 3,
   "id": "c0fa1d8339c7211e",
   "metadata": {
    "collapsed": false
   },
   "outputs": [
    {
     "name": "stdout",
     "output_type": "stream",
     "text": [
      "        col1      col2\n",
      "0   0.374540 -1.012831\n",
      "1   0.950714  0.314247\n",
      "2   0.731994 -0.908024\n",
      "3   0.598658 -1.412304\n",
      "4   0.156019  1.465649\n",
      "5   0.155995 -0.225776\n",
      "6   0.058084  0.067528\n",
      "7   0.866176 -1.424748\n",
      "8   0.601115 -0.544383\n",
      "9   0.708073  0.110923\n",
      "10  0.020584 -1.150994\n",
      "11  0.969910  0.375698\n",
      "12  0.832443 -0.600639\n",
      "13  0.212339 -0.291694\n",
      "14  0.181825 -0.601707\n",
      "15  0.183405  1.852278\n",
      "16  0.304242 -0.013497\n",
      "17  0.524756 -1.057711\n",
      "18  0.431945  0.822545\n",
      "19  0.291229 -1.220844\n"
     ]
    }
   ],
   "source": [
    "np.random.seed(42)\n",
    "s1 = pd.Series(np.random.rand(20))\n",
    "s2 = pd.Series(np.random.randn(20))\n",
    "\n",
    "df = pd.DataFrame({'col1': s1, 'col2': s2})\n",
    "\n",
    "print(df)"
   ]
  },
  {
   "cell_type": "markdown",
   "id": "75b9f1c0184964ca",
   "metadata": {
    "collapsed": false
   },
   "source": [
    "## Ćwiczenie 2"
   ]
  },
  {
   "cell_type": "markdown",
   "id": "f4f5bee50e8ab07f",
   "metadata": {
    "collapsed": false
   },
   "source": [
    "Wyodrębnij wiersze z obiektu df (z zadania 1), dla którego wartość w kolumnie col2 zawiera się\n",
    "między 0.0 a 1.0 (włącznie). Wydrukuj wynik do konsoli."
   ]
  },
  {
   "cell_type": "code",
   "execution_count": 4,
   "id": "965fd47e3383ce02",
   "metadata": {
    "collapsed": false
   },
   "outputs": [
    {
     "name": "stdout",
     "output_type": "stream",
     "text": [
      "        col1      col2\n",
      "1   0.950714  0.314247\n",
      "6   0.058084  0.067528\n",
      "9   0.708073  0.110923\n",
      "11  0.969910  0.375698\n",
      "18  0.431945  0.822545\n"
     ]
    }
   ],
   "source": [
    "filtered_df = df[(df['col2'] >= 0.0) & (df['col2'] <= 1.0)]\n",
    "\n",
    "print(filtered_df)"
   ]
  },
  {
   "cell_type": "markdown",
   "id": "f10ec758558f2c23",
   "metadata": {
    "collapsed": false
   },
   "source": [
    "## Ćwiczenie 3"
   ]
  },
  {
   "cell_type": "markdown",
   "id": "3aae1fb787546bb9",
   "metadata": {
    "collapsed": false
   },
   "source": [
    "Przypisz nową kolumnę o nazwie col3, która będzie miała wartość 1, gdy wartość w kolumnie col2\n",
    "jest nieujemna i -1 przeciwnie. Wydrukuj wynik do konsoli."
   ]
  },
  {
   "cell_type": "code",
   "execution_count": 5,
   "id": "4983c2c576ad182a",
   "metadata": {
    "collapsed": false
   },
   "outputs": [
    {
     "name": "stdout",
     "output_type": "stream",
     "text": [
      "        col1      col2  col3\n",
      "0   0.374540 -1.012831    -1\n",
      "1   0.950714  0.314247     1\n",
      "2   0.731994 -0.908024    -1\n",
      "3   0.598658 -1.412304    -1\n",
      "4   0.156019  1.465649     1\n",
      "5   0.155995 -0.225776    -1\n",
      "6   0.058084  0.067528     1\n",
      "7   0.866176 -1.424748    -1\n",
      "8   0.601115 -0.544383    -1\n",
      "9   0.708073  0.110923     1\n",
      "10  0.020584 -1.150994    -1\n",
      "11  0.969910  0.375698     1\n",
      "12  0.832443 -0.600639    -1\n",
      "13  0.212339 -0.291694    -1\n",
      "14  0.181825 -0.601707    -1\n",
      "15  0.183405  1.852278     1\n",
      "16  0.304242 -0.013497    -1\n",
      "17  0.524756 -1.057711    -1\n",
      "18  0.431945  0.822545     1\n",
      "19  0.291229 -1.220844    -1\n"
     ]
    }
   ],
   "source": [
    "df['col3'] = np.where(df['col2'] >= 0, 1, -1)\n",
    "\n",
    "print(df)"
   ]
  },
  {
   "cell_type": "markdown",
   "id": "bbde43ebb3c19b15",
   "metadata": {
    "collapsed": false
   },
   "source": [
    "## Ćwiczenie 4"
   ]
  },
  {
   "cell_type": "markdown",
   "id": "ce5be05f2dcdaa0a",
   "metadata": {
    "collapsed": false
   },
   "source": [
    "Przypisz nową kolumnę col4, która obetnie wartości z kolumny col2 do zakresu [−1.0,1.0]."
   ]
  },
  {
   "cell_type": "code",
   "execution_count": 6,
   "id": "a7bc8a13feeea31",
   "metadata": {
    "collapsed": false
   },
   "outputs": [
    {
     "name": "stdout",
     "output_type": "stream",
     "text": [
      "        col1      col2  col3      col4\n",
      "0   0.374540 -1.012831    -1 -1.000000\n",
      "1   0.950714  0.314247     1  0.314247\n",
      "2   0.731994 -0.908024    -1 -0.908024\n",
      "3   0.598658 -1.412304    -1 -1.000000\n",
      "4   0.156019  1.465649     1  1.000000\n",
      "5   0.155995 -0.225776    -1 -0.225776\n",
      "6   0.058084  0.067528     1  0.067528\n",
      "7   0.866176 -1.424748    -1 -1.000000\n",
      "8   0.601115 -0.544383    -1 -0.544383\n",
      "9   0.708073  0.110923     1  0.110923\n",
      "10  0.020584 -1.150994    -1 -1.000000\n",
      "11  0.969910  0.375698     1  0.375698\n",
      "12  0.832443 -0.600639    -1 -0.600639\n",
      "13  0.212339 -0.291694    -1 -0.291694\n",
      "14  0.181825 -0.601707    -1 -0.601707\n",
      "15  0.183405  1.852278     1  1.000000\n",
      "16  0.304242 -0.013497    -1 -0.013497\n",
      "17  0.524756 -1.057711    -1 -1.000000\n",
      "18  0.431945  0.822545     1  0.822545\n",
      "19  0.291229 -1.220844    -1 -1.000000\n"
     ]
    }
   ],
   "source": [
    "df['col4'] = df['col2'].clip(lower=-1.0, upper=1.0)\n",
    "\n",
    "print(df)"
   ]
  },
  {
   "cell_type": "markdown",
   "id": "c7aaa8e7e4c97ba6",
   "metadata": {
    "collapsed": false
   },
   "source": [
    "## Ćwiczenie 5"
   ]
  },
  {
   "cell_type": "markdown",
   "id": "8dce13cd0a5c0806",
   "metadata": {
    "collapsed": false
   },
   "source": [
    "Wykonaj poniższe polecenia: - wydrukuj do konsoli 5 najwyższych wartości w kolumnie col2 -\n",
    "wydrukuj do konsoli pustą linię - wydrukuj do konsoli 5 najniższych wartości w kolumnie col2\n"
   ]
  },
  {
   "cell_type": "code",
   "execution_count": 7,
   "id": "ea340b95bff9da8f",
   "metadata": {
    "collapsed": false
   },
   "outputs": [
    {
     "name": "stdout",
     "output_type": "stream",
     "text": [
      "5 najwyższych wartości w kolumnie col2:\n",
      "15    1.852278\n",
      "4     1.465649\n",
      "18    0.822545\n",
      "11    0.375698\n",
      "1     0.314247\n",
      "Name: col2, dtype: float64\n",
      "\n",
      "5 najniższych wartości w kolumnie col2:\n",
      "7    -1.424748\n",
      "3    -1.412304\n",
      "19   -1.220844\n",
      "10   -1.150994\n",
      "17   -1.057711\n",
      "Name: col2, dtype: float64\n"
     ]
    }
   ],
   "source": [
    "top_values = df.nlargest(5, 'col2')['col2']\n",
    "print(\"5 najwyższych wartości w kolumnie col2:\")\n",
    "print(top_values)\n",
    "\n",
    "print()\n",
    "\n",
    "bottom_values = df.nsmallest(5, 'col2')['col2']\n",
    "print(\"5 najniższych wartości w kolumnie col2:\")\n",
    "print(bottom_values)"
   ]
  },
  {
   "cell_type": "markdown",
   "id": "4696a870de64c274",
   "metadata": {
    "collapsed": false
   },
   "source": [
    "## Ćwiczenie 6"
   ]
  },
  {
   "cell_type": "markdown",
   "id": "ad4035b3f4aafa77",
   "metadata": {
    "collapsed": false
   },
   "source": [
    "Oblicz skumulowaną sumę dla każdej kolumny. Wydrukuj wynik do konsoli. Wskazówka: Użyj\n",
    "metody pd.DataFrame.cumsum().\n"
   ]
  },
  {
   "cell_type": "code",
   "execution_count": 8,
   "id": "42190a883164f91e",
   "metadata": {
    "collapsed": false
   },
   "outputs": [
    {
     "name": "stdout",
     "output_type": "stream",
     "text": [
      "Skumulowana suma dla każdej kolumny:\n",
      "        col1      col2  col3      col4\n",
      "0   0.374540 -1.012831    -1 -1.000000\n",
      "1   1.325254 -0.698584     0 -0.685753\n",
      "2   2.057248 -1.606608    -1 -1.593777\n",
      "3   2.655907 -3.018912    -2 -2.593777\n",
      "4   2.811925 -1.553263    -1 -1.593777\n",
      "5   2.967920 -1.779039    -2 -1.819553\n",
      "6   3.026004 -1.711511    -1 -1.752025\n",
      "7   3.892180 -3.136259    -2 -2.752025\n",
      "8   4.493295 -3.680642    -3 -3.296408\n",
      "9   5.201367 -3.569719    -2 -3.185485\n",
      "10  5.221952 -4.720713    -3 -4.185485\n",
      "11  6.191862 -4.345015    -2 -3.809787\n",
      "12  7.024304 -4.945653    -3 -4.410426\n",
      "13  7.236643 -5.237347    -4 -4.702119\n",
      "14  7.418468 -5.839054    -5 -5.303826\n",
      "15  7.601873 -3.986776    -4 -4.303826\n",
      "16  7.906115 -4.000273    -5 -4.317323\n",
      "17  8.430872 -5.057984    -6 -5.317323\n",
      "18  8.862817 -4.235439    -5 -4.494778\n",
      "19  9.154046 -5.456283    -6 -5.494778\n"
     ]
    }
   ],
   "source": [
    "cumulative_sum_df = df.cumsum()\n",
    "\n",
    "print(\"Skumulowana suma dla każdej kolumny:\")\n",
    "print(cumulative_sum_df)"
   ]
  },
  {
   "cell_type": "markdown",
   "id": "496629947ea6550b",
   "metadata": {
    "collapsed": false
   },
   "source": [
    "## Ćwiczenie 7"
   ]
  },
  {
   "cell_type": "markdown",
   "id": "63acecf9dbe22f9f",
   "metadata": {
    "collapsed": false
   },
   "source": [
    "Oblicz medianę dla zmiennej col2. Wydrukuj wynik do konsoli."
   ]
  },
  {
   "cell_type": "markdown",
   "id": "c50bf63837c41c39",
   "metadata": {
    "collapsed": false
   },
   "source": [
    "### Miejsce na rozwiązanie"
   ]
  },
  {
   "cell_type": "code",
   "execution_count": 9,
   "id": "a6751ad991d4a54d",
   "metadata": {
    "collapsed": false
   },
   "outputs": [
    {
     "name": "stdout",
     "output_type": "stream",
     "text": [
      "Mediana dla zmiennej col2: -0.4180382371592297\n"
     ]
    }
   ],
   "source": [
    "median_col2 = df['col2'].median()\n",
    "\n",
    "print(\"Mediana dla zmiennej col2:\", median_col2)"
   ]
  },
  {
   "cell_type": "markdown",
   "id": "4a65028c892c4bc8",
   "metadata": {
    "collapsed": false
   },
   "source": [
    "## Ćwiczenie 8"
   ]
  },
  {
   "cell_type": "markdown",
   "id": "80df71baa84113a",
   "metadata": {
    "collapsed": false
   },
   "source": [
    "Wyodrębnij wiersze, dla których zmienna col2 przyjmuje wartości większe niż 0.0. Wydrukuj wynik\n",
    "do konsoli."
   ]
  },
  {
   "cell_type": "code",
   "execution_count": 10,
   "id": "818f039e76804759",
   "metadata": {
    "collapsed": false
   },
   "outputs": [
    {
     "name": "stdout",
     "output_type": "stream",
     "text": [
      "Wiersze, dla których col2 > 0.0:\n",
      "        col1      col2  col3      col4\n",
      "1   0.950714  0.314247     1  0.314247\n",
      "4   0.156019  1.465649     1  1.000000\n",
      "6   0.058084  0.067528     1  0.067528\n",
      "9   0.708073  0.110923     1  0.110923\n",
      "11  0.969910  0.375698     1  0.375698\n",
      "15  0.183405  1.852278     1  1.000000\n",
      "18  0.431945  0.822545     1  0.822545\n"
     ]
    }
   ],
   "source": [
    "filtered_rows = df[df['col2'] > 0.0]\n",
    "\n",
    "print(\"Wiersze, dla których col2 > 0.0:\")\n",
    "print(filtered_rows)"
   ]
  },
  {
   "cell_type": "markdown",
   "id": "e6aedb4b8e5851c",
   "metadata": {
    "collapsed": false
   },
   "source": [
    "## Ćwiczenie 9"
   ]
  },
  {
   "cell_type": "markdown",
   "id": "b113e774227042b9",
   "metadata": {
    "collapsed": false
   },
   "source": [
    "Wyodrębnij pierwsze 5 wierszy obiektu df i przekonwertuj go na słownik. Wydrukuj wynik do\n",
    "konsoli.\n"
   ]
  },
  {
   "cell_type": "code",
   "execution_count": 11,
   "id": "c49ce0bf5dfb2cfe",
   "metadata": {
    "collapsed": false
   },
   "outputs": [
    {
     "name": "stdout",
     "output_type": "stream",
     "text": [
      "Pierwsze 5 wierszy przekonwertowane na słownik:\n",
      "[{'col1': 0.3745401188473625, 'col2': -1.0128311203344238, 'col3': -1, 'col4': -1.0}, {'col1': 0.9507143064099162, 'col2': 0.3142473325952739, 'col3': 1, 'col4': 0.3142473325952739}, {'col1': 0.7319939418114051, 'col2': -0.9080240755212109, 'col3': -1, 'col4': -0.9080240755212109}, {'col1': 0.5986584841970366, 'col2': -1.4123037013352915, 'col3': -1, 'col4': -1.0}, {'col1': 0.15601864044243652, 'col2': 1.465648768921554, 'col3': 1, 'col4': 1.0}]\n"
     ]
    }
   ],
   "source": [
    "first_5_rows = df.head(5)\n",
    "\n",
    "dictionary_result = first_5_rows.to_dict(orient='records')\n",
    "\n",
    "print(\"Pierwsze 5 wierszy przekonwertowane na słownik:\")\n",
    "print(dictionary_result)"
   ]
  },
  {
   "cell_type": "markdown",
   "id": "558a184b94674131",
   "metadata": {
    "collapsed": false
   },
   "source": [
    "## Ćwiczenie 10"
   ]
  },
  {
   "cell_type": "markdown",
   "id": "1587384ae60a6902",
   "metadata": {
    "collapsed": false
   },
   "source": [
    "Wyodrębnij pierwsze 5 wierszy obiektu df, przekonwertuj go na format HTML (jako obiekt typu\n",
    "str) i przypisz do zmiennej df_html. Wydrukuj zawartość zmiennej df_html do konsoli.\n"
   ]
  },
  {
   "cell_type": "markdown",
   "id": "6822b2429f1d3596",
   "metadata": {
    "collapsed": false
   },
   "source": [
    "### Miejsce na rozwiązanie"
   ]
  },
  {
   "cell_type": "code",
   "execution_count": 12,
   "id": "8f275b0802072d5f",
   "metadata": {
    "collapsed": false
   },
   "outputs": [
    {
     "name": "stdout",
     "output_type": "stream",
     "text": [
      "Zawartość df_html:\n",
      "<table border=\"1\" class=\"dataframe\">\n",
      "  <thead>\n",
      "    <tr style=\"text-align: right;\">\n",
      "      <th></th>\n",
      "      <th>col1</th>\n",
      "      <th>col2</th>\n",
      "      <th>col3</th>\n",
      "      <th>col4</th>\n",
      "    </tr>\n",
      "  </thead>\n",
      "  <tbody>\n",
      "    <tr>\n",
      "      <th>0</th>\n",
      "      <td>0.374540</td>\n",
      "      <td>-1.012831</td>\n",
      "      <td>-1</td>\n",
      "      <td>-1.000000</td>\n",
      "    </tr>\n",
      "    <tr>\n",
      "      <th>1</th>\n",
      "      <td>0.950714</td>\n",
      "      <td>0.314247</td>\n",
      "      <td>1</td>\n",
      "      <td>0.314247</td>\n",
      "    </tr>\n",
      "    <tr>\n",
      "      <th>2</th>\n",
      "      <td>0.731994</td>\n",
      "      <td>-0.908024</td>\n",
      "      <td>-1</td>\n",
      "      <td>-0.908024</td>\n",
      "    </tr>\n",
      "    <tr>\n",
      "      <th>3</th>\n",
      "      <td>0.598658</td>\n",
      "      <td>-1.412304</td>\n",
      "      <td>-1</td>\n",
      "      <td>-1.000000</td>\n",
      "    </tr>\n",
      "    <tr>\n",
      "      <th>4</th>\n",
      "      <td>0.156019</td>\n",
      "      <td>1.465649</td>\n",
      "      <td>1</td>\n",
      "      <td>1.000000</td>\n",
      "    </tr>\n",
      "  </tbody>\n",
      "</table>\n"
     ]
    }
   ],
   "source": [
    "first_5_rows = df.head(5)\n",
    "df_html = first_5_rows.to_html()\n",
    "\n",
    "print(\"Zawartość df_html:\")\n",
    "print(df_html)"
   ]
  },
  {
   "cell_type": "markdown",
   "id": "a65c4f43efa5b4eb",
   "metadata": {
    "collapsed": false
   },
   "source": [
    "## Ćwiczenie 11"
   ]
  },
  {
   "cell_type": "markdown",
   "id": "a90c7cd47543fcd4",
   "metadata": {
    "collapsed": false
   },
   "source": [
    "Podany jest następujący obiekt DataFrame:\n",
    "Wyodrębnij wiersze obiektu df dla których kolumna C jest większa niż 0.8. Wydrukuj wynik do\n",
    "konsoli.\n"
   ]
  },
  {
   "cell_type": "code",
   "execution_count": 28,
   "id": "cfffa727d292ef87",
   "metadata": {
    "collapsed": false
   },
   "outputs": [
    {
     "name": "stdout",
     "output_type": "stream",
     "text": [
      "Wiersze, dla których kolumna C > 0.8:\n",
      "          A         B         C         D\n",
      "1  0.920859  0.434986  0.948434  0.342789\n",
      "4  0.793504  0.536250  0.844549  0.704617\n",
      "7  0.431928  0.608478  0.901527  0.333790\n"
     ]
    }
   ],
   "source": [
    "np.random.seed()\n",
    "df = pd.DataFrame(np.random.rand(10, 4), columns=list('ABCD'))\n",
    "\n",
    "\n",
    "filtered_rows = df[df['C'] > 0.8]\n",
    "\n",
    "print(\"Wiersze, dla których kolumna C > 0.8:\")\n",
    "print(filtered_rows)"
   ]
  },
  {
   "cell_type": "markdown",
   "id": "37a0ec03766aff49",
   "metadata": {
    "collapsed": false
   },
   "source": [
    "## Ćwiczenie 12"
   ]
  },
  {
   "cell_type": "markdown",
   "id": "d063ec45571af8c8",
   "metadata": {
    "collapsed": false
   },
   "source": [
    "Wyodrębnij wiersze obiektu df dla których kolumna C jest większa niż 0.3, a kolumna D jest\n",
    "mniejsza niż 0.7. Wydrukuj wynik do konsoli."
   ]
  },
  {
   "cell_type": "code",
   "execution_count": 29,
   "id": "1f95b906c095b032",
   "metadata": {
    "collapsed": false
   },
   "outputs": [
    {
     "name": "stdout",
     "output_type": "stream",
     "text": [
      "Wiersze, dla których kolumna C > 0.3 i kolumna D < 0.7:\n",
      "          A         B         C         D\n",
      "0  0.425295  0.113193  0.435425  0.048386\n",
      "1  0.705370  0.311270  0.688621  0.006962\n",
      "3  0.732196  0.379042  0.656924  0.465132\n",
      "4  0.121597  0.546113  0.795811  0.468136\n",
      "5  0.360504  0.005637  0.450458  0.320998\n",
      "9  0.510913  0.012508  0.527338  0.551133\n"
     ]
    }
   ],
   "source": [
    "np.random.seed()\n",
    "\n",
    "df = pd.DataFrame(np.random.rand(10, 4), columns=list('ABCD'))\n",
    "\n",
    "filtered_rows = df[(df['C'] > 0.3) & (df['D'] < 0.7)]\n",
    "\n",
    "print(\"Wiersze, dla których kolumna C > 0.3 i kolumna D < 0.7:\")\n",
    "print(filtered_rows)"
   ]
  },
  {
   "cell_type": "markdown",
   "id": "f601b826139368d2",
   "metadata": {
    "collapsed": false
   },
   "source": [
    "## Ćwiczenie 13"
   ]
  },
  {
   "cell_type": "markdown",
   "id": "2fca3b6e6f0e4c",
   "metadata": {
    "collapsed": false
   },
   "source": [
    "Dokonaj iteracji przez pierwsze pięć wierszy obiektu df. Wydrukuj każdy wiersz do konsoli.\n"
   ]
  },
  {
   "cell_type": "code",
   "execution_count": 32,
   "id": "d91b1f888fad358e",
   "metadata": {
    "collapsed": false
   },
   "outputs": [
    {
     "name": "stdout",
     "output_type": "stream",
     "text": [
      "Wiersz 0 :\n",
      " A    0.435902\n",
      "B    0.986509\n",
      "C    0.251827\n",
      "D    0.855315\n",
      "Name: 0, dtype: float64\n",
      "Wiersz 1 :\n",
      " A    0.274530\n",
      "B    0.026987\n",
      "C    0.317833\n",
      "D    0.457674\n",
      "Name: 1, dtype: float64\n",
      "Wiersz 2 :\n",
      " A    0.779984\n",
      "B    0.818360\n",
      "C    0.239428\n",
      "D    0.811645\n",
      "Name: 2, dtype: float64\n",
      "Wiersz 3 :\n",
      " A    0.428265\n",
      "B    0.622864\n",
      "C    0.657819\n",
      "D    0.028731\n",
      "Name: 3, dtype: float64\n",
      "Wiersz 4 :\n",
      " A    0.582557\n",
      "B    0.188290\n",
      "C    0.376401\n",
      "D    0.307482\n",
      "Name: 4, dtype: float64\n"
     ]
    }
   ],
   "source": [
    "np.random.seed()\n",
    "\n",
    "df = pd.DataFrame(np.random.rand(10, 4), columns=list('ABCD'))\n",
    "\n",
    "for index, row in df.head(5).iterrows():\n",
    "    print(\"Wiersz\", index, \":\\n\",row)"
   ]
  },
  {
   "cell_type": "markdown",
   "id": "4f4413af3ceea30e",
   "metadata": {
    "collapsed": false
   },
   "source": [
    "## Ćwiczenie 14"
   ]
  },
  {
   "cell_type": "markdown",
   "id": "f10932c903cdb601",
   "metadata": {
    "collapsed": false
   },
   "source": [
    "Ustaw wartość w wierszu z indeksem 3 dla kolumny B jako np.nan (użyj df.iloc) oraz ustaw\n",
    "wartość w wierszu o indeksie 8 dla kolumny D jako np.nan (użyj df.loc). Przypisz wartości do\n",
    "zmiennej df.\n",
    "Wydrukuj obiekt df do konsoli."
   ]
  },
  {
   "cell_type": "code",
   "execution_count": 33,
   "id": "27348f68dff138a5",
   "metadata": {
    "collapsed": false
   },
   "outputs": [
    {
     "name": "stdout",
     "output_type": "stream",
     "text": [
      "DataFrame po ustawieniu wartości na np.nan:\n",
      "          A         B         C         D\n",
      "0  0.897004  0.017612  0.830017  0.070405\n",
      "1  0.357559  0.070290  0.764763  0.408174\n",
      "2  0.978706  0.773361  0.553667  0.250834\n",
      "3  0.897874       NaN  0.937661  0.820106\n",
      "4  0.185747  0.282775  0.073980  0.176220\n",
      "5  0.102219  0.764520  0.896854  0.566713\n",
      "6  0.455889  0.195971  0.902201  0.215211\n",
      "7  0.980352  0.205372  0.619401  0.448225\n",
      "8  0.329656  0.141329  0.269597       NaN\n",
      "9  0.600080  0.557137  0.132595  0.905144\n"
     ]
    }
   ],
   "source": [
    "np.random.seed()\n",
    "\n",
    "df = pd.DataFrame(np.random.rand(10, 4), columns=list('ABCD'))\n",
    "\n",
    "df.iloc[3, df.columns.get_loc('B')] = np.nan\n",
    "\n",
    "df.loc[8, 'D'] = np.nan\n",
    "\n",
    "print(\"DataFrame po ustawieniu wartości na np.nan:\")\n",
    "print(df)"
   ]
  },
  {
   "cell_type": "markdown",
   "id": "1aa2e6c120c07d32",
   "metadata": {
    "collapsed": false
   },
   "source": [
    "## Ćwiczenie 15"
   ]
  },
  {
   "cell_type": "markdown",
   "id": "b06564579f9c220",
   "metadata": {
    "collapsed": false
   },
   "source": [
    "Usuń wszystkie wiersze z obiektu df zawierające brakujące wartości i pozostałą część obiektu przypisz do zmiennej df1. Wydrukuj zmienną df1 do konsoli."
   ]
  },
  {
   "cell_type": "code",
   "execution_count": 34,
   "id": "6ddf639bfa67b08a",
   "metadata": {
    "collapsed": false
   },
   "outputs": [
    {
     "name": "stdout",
     "output_type": "stream",
     "text": [
      "DataFrame po usunięciu wierszy z brakującymi wartościami:\n",
      "          A         B         C         D\n",
      "0  0.897004  0.017612  0.830017  0.070405\n",
      "1  0.357559  0.070290  0.764763  0.408174\n",
      "2  0.978706  0.773361  0.553667  0.250834\n",
      "4  0.185747  0.282775  0.073980  0.176220\n",
      "5  0.102219  0.764520  0.896854  0.566713\n",
      "6  0.455889  0.195971  0.902201  0.215211\n",
      "7  0.980352  0.205372  0.619401  0.448225\n",
      "9  0.600080  0.557137  0.132595  0.905144\n"
     ]
    }
   ],
   "source": [
    "df1 = df.dropna()\n",
    "\n",
    "print(\"DataFrame po usunięciu wierszy z brakującymi wartościami:\")\n",
    "print(df1)"
   ]
  },
  {
   "cell_type": "markdown",
   "id": "18a559d13def9abe",
   "metadata": {
    "collapsed": false
   },
   "source": [
    "## Ćwiczenie 16"
   ]
  },
  {
   "cell_type": "markdown",
   "id": "c5ba33bf568209b5",
   "metadata": {
    "collapsed": false
   },
   "source": [
    "Indeks po usunięciu dwóch wierszy w obiekcie df1 nie jest po kolei. Zresetuj indeks (nie dodawaj\n",
    "nowej kolumny). Wyświetl wartość zmiennej df1 do konsoli."
   ]
  },
  {
   "cell_type": "code",
   "execution_count": 35,
   "id": "112abf11daf51ef5",
   "metadata": {
    "collapsed": false
   },
   "outputs": [
    {
     "name": "stdout",
     "output_type": "stream",
     "text": [
      "DataFrame df1 po zresetowaniu indeksu:\n",
      "          A         B         C         D\n",
      "0  0.897004  0.017612  0.830017  0.070405\n",
      "1  0.357559  0.070290  0.764763  0.408174\n",
      "2  0.978706  0.773361  0.553667  0.250834\n",
      "3  0.185747  0.282775  0.073980  0.176220\n",
      "4  0.102219  0.764520  0.896854  0.566713\n",
      "5  0.455889  0.195971  0.902201  0.215211\n",
      "6  0.980352  0.205372  0.619401  0.448225\n",
      "7  0.600080  0.557137  0.132595  0.905144\n"
     ]
    }
   ],
   "source": [
    "df1.reset_index(drop=True, inplace=True)\n",
    "\n",
    "print(\"DataFrame df1 po zresetowaniu indeksu:\")\n",
    "print(df1)"
   ]
  },
  {
   "cell_type": "markdown",
   "id": "4a5de8f98db42f44",
   "metadata": {
    "collapsed": false
   },
   "source": [
    "## Ćwiczenie 17"
   ]
  },
  {
   "cell_type": "markdown",
   "id": "8c3a8c0260f9bc79",
   "metadata": {
    "collapsed": false
   },
   "source": [
    "Określ liczbę brakujących elementów w obiekcie df dla każdej kolumny. Wydrukuj wynik do konsoli.\n"
   ]
  },
  {
   "cell_type": "code",
   "execution_count": 36,
   "id": "18772962e8c4d48d",
   "metadata": {
    "collapsed": false
   },
   "outputs": [
    {
     "name": "stdout",
     "output_type": "stream",
     "text": [
      "Liczba brakujących elementów dla każdej kolumny:\n",
      "A    0\n",
      "B    1\n",
      "C    0\n",
      "D    1\n",
      "dtype: int64\n"
     ]
    }
   ],
   "source": [
    "missing_values_per_column = df.isnull().sum()\n",
    "\n",
    "print(\"Liczba brakujących elementów dla każdej kolumny:\")\n",
    "print(missing_values_per_column)"
   ]
  },
  {
   "cell_type": "markdown",
   "id": "f8ec7e1e821942d1",
   "metadata": {
    "collapsed": false
   },
   "source": [
    "## Ćwiczenie 18"
   ]
  },
  {
   "cell_type": "markdown",
   "metadata": {},
   "source": [
    "Uzupełnij brakujące wartości wartością 0 i wynik przypisz do zmiennej df. Wydrukuj zawartość\n",
    "zmiennej df do konsoli."
   ]
  },
  {
   "cell_type": "code",
   "execution_count": 37,
   "metadata": {},
   "outputs": [
    {
     "name": "stdout",
     "output_type": "stream",
     "text": [
      "DataFrame df po uzupełnieniu brakujących wartości:\n",
      "          A         B         C         D\n",
      "0  0.897004  0.017612  0.830017  0.070405\n",
      "1  0.357559  0.070290  0.764763  0.408174\n",
      "2  0.978706  0.773361  0.553667  0.250834\n",
      "3  0.897874  0.000000  0.937661  0.820106\n",
      "4  0.185747  0.282775  0.073980  0.176220\n",
      "5  0.102219  0.764520  0.896854  0.566713\n",
      "6  0.455889  0.195971  0.902201  0.215211\n",
      "7  0.980352  0.205372  0.619401  0.448225\n",
      "8  0.329656  0.141329  0.269597  0.000000\n",
      "9  0.600080  0.557137  0.132595  0.905144\n"
     ]
    }
   ],
   "source": [
    "df.fillna(0, inplace=True)\n",
    "\n",
    "print(\"DataFrame df po uzupełnieniu brakujących wartości:\")\n",
    "print(df)\n"
   ]
  },
  {
   "cell_type": "markdown",
   "metadata": {},
   "source": [
    "## Ćwiczenie 19"
   ]
  },
  {
   "cell_type": "markdown",
   "metadata": {},
   "source": [
    "Zamień kolejność kolumn w obiekcie df na podaną poniżej: - D, A, B, C\n",
    "i przypisz do zmiennej df. Wydrukuj zawartość zmiennej df do konsoli."
   ]
  },
  {
   "cell_type": "code",
   "execution_count": 38,
   "metadata": {},
   "outputs": [
    {
     "name": "stdout",
     "output_type": "stream",
     "text": [
      "DataFrame df po zmianie kolejności kolumn:\n",
      "          D         A         B         C\n",
      "0  0.070405  0.897004  0.017612  0.830017\n",
      "1  0.408174  0.357559  0.070290  0.764763\n",
      "2  0.250834  0.978706  0.773361  0.553667\n",
      "3  0.820106  0.897874  0.000000  0.937661\n",
      "4  0.176220  0.185747  0.282775  0.073980\n",
      "5  0.566713  0.102219  0.764520  0.896854\n",
      "6  0.215211  0.455889  0.195971  0.902201\n",
      "7  0.448225  0.980352  0.205372  0.619401\n",
      "8  0.000000  0.329656  0.141329  0.269597\n",
      "9  0.905144  0.600080  0.557137  0.132595\n"
     ]
    }
   ],
   "source": [
    "df = df[['D', 'A', 'B', 'C']]\n",
    "\n",
    "print(\"DataFrame df po zmianie kolejności kolumn:\")\n",
    "print(df)\n"
   ]
  },
  {
   "cell_type": "markdown",
   "metadata": {},
   "source": [
    "## Ćwiczenie 20"
   ]
  },
  {
   "cell_type": "markdown",
   "id": "b062d3893e893139",
   "metadata": {
    "collapsed": false
   },
   "source": [
    "Usuń kolumnę D z obiektu df. Wydrukuj obiekt df do konsoli."
   ]
  },
  {
   "cell_type": "code",
   "execution_count": 39,
   "id": "94213de8759ca8ed",
   "metadata": {
    "collapsed": false
   },
   "outputs": [
    {
     "name": "stdout",
     "output_type": "stream",
     "text": [
      "DataFrame df po usunięciu kolumny 'D':\n",
      "          A         B         C\n",
      "0  0.897004  0.017612  0.830017\n",
      "1  0.357559  0.070290  0.764763\n",
      "2  0.978706  0.773361  0.553667\n",
      "3  0.897874  0.000000  0.937661\n",
      "4  0.185747  0.282775  0.073980\n",
      "5  0.102219  0.764520  0.896854\n",
      "6  0.455889  0.195971  0.902201\n",
      "7  0.980352  0.205372  0.619401\n",
      "8  0.329656  0.141329  0.269597\n",
      "9  0.600080  0.557137  0.132595\n"
     ]
    }
   ],
   "source": [
    "df.drop('D', axis=1, inplace=True)\n",
    "\n",
    "print(\"DataFrame df po usunięciu kolumny 'D':\")\n",
    "print(df)\n"
   ]
  },
  {
   "cell_type": "markdown",
   "metadata": {},
   "source": [
    "Wnioski: Filtrowanie danych w dataset jest bardzo ważną i często używaną funkcją, pandas bardzo dobrze sobie z tym radzi przy czym ma moim zdaniem prosta i czytelną składnie filtrowania, jedynie dla niektórych poleceń należy pamiętać o wskazaniu odpowiedniej osi \"axis=\""
   ]
  }
 ],
 "metadata": {
  "kernelspec": {
   "display_name": "Python 3",
   "language": "python",
   "name": "python3"
  },
  "language_info": {
   "codemirror_mode": {
    "name": "ipython",
    "version": 3
   },
   "file_extension": ".py",
   "mimetype": "text/x-python",
   "name": "python",
   "nbconvert_exporter": "python",
   "pygments_lexer": "ipython3",
   "version": "3.11.7"
  }
 },
 "nbformat": 4,
 "nbformat_minor": 5
}
