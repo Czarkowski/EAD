{
 "cells": [
  {
   "cell_type": "markdown",
   "metadata": {},
   "source": [
    "Cezary Tytko 118873"
   ]
  },
  {
   "cell_type": "code",
   "execution_count": 1,
   "id": "8ac40dced1d1fc4c",
   "metadata": {
    "ExecuteTime": {
     "end_time": "2023-11-02T17:30:20.489097100Z",
     "start_time": "2023-11-02T17:30:20.285766500Z"
    },
    "collapsed": false
   },
   "outputs": [],
   "source": [
    "import pandas as pd\n",
    "import numpy as np"
   ]
  },
  {
   "cell_type": "markdown",
   "id": "24ab3b2fb11230a4",
   "metadata": {
    "collapsed": false
   },
   "source": [
    "# Zadania do samodzielnego wykonania"
   ]
  },
  {
   "cell_type": "markdown",
   "id": "4cee95e32bcbd29e",
   "metadata": {
    "collapsed": false
   },
   "source": [
    "## Ćwiczenie 1"
   ]
  },
  {
   "cell_type": "markdown",
   "id": "92e7f08549810f76",
   "metadata": {
    "collapsed": false
   },
   "source": [
    "Załaduj plik csv do obiektu DataFrame o nazwie df:\n",
    "https://storage.googleapis.com/esmartdata-courses-files/dash-course/data.csv\n",
    "Ustaw indeks na pierwszą kolumnę. Wydrukuj zawartość obiektu df do konsoli."
   ]
  },
  {
   "cell_type": "code",
   "execution_count": 2,
   "id": "c0fa1d8339c7211e",
   "metadata": {
    "collapsed": false
   },
   "outputs": [
    {
     "name": "stdout",
     "output_type": "stream",
     "text": [
      "                                  Name    Location  Year  Kilometers_Driven  \\\n",
      "0               Maruti Wagon R LXI CNG      Mumbai  2010              72000   \n",
      "1     Hyundai Creta 1.6 CRDi SX Option        Pune  2015              41000   \n",
      "2                         Honda Jazz V     Chennai  2011              46000   \n",
      "3                    Maruti Ertiga VDI     Chennai  2012              87000   \n",
      "4      Audi A4 New 2.0 TDI Multitronic  Coimbatore  2013              40670   \n",
      "...                                ...         ...   ...                ...   \n",
      "6014                  Maruti Swift VDI       Delhi  2014              27365   \n",
      "6015          Hyundai Xcent 1.1 CRDi S      Jaipur  2015             100000   \n",
      "6016             Mahindra Xylo D4 BSIV      Jaipur  2012              55000   \n",
      "6017                Maruti Wagon R VXI     Kolkata  2013              46000   \n",
      "6018             Chevrolet Beat Diesel   Hyderabad  2011              47000   \n",
      "\n",
      "     Fuel_Type Transmission Owner_Type     Mileage   Engine      Power  Seats  \\\n",
      "0          CNG       Manual      First  26.6 km/kg   998 CC  58.16 bhp    5.0   \n",
      "1       Diesel       Manual      First  19.67 kmpl  1582 CC  126.2 bhp    5.0   \n",
      "2       Petrol       Manual      First   18.2 kmpl  1199 CC   88.7 bhp    5.0   \n",
      "3       Diesel       Manual      First  20.77 kmpl  1248 CC  88.76 bhp    7.0   \n",
      "4       Diesel    Automatic     Second   15.2 kmpl  1968 CC  140.8 bhp    5.0   \n",
      "...        ...          ...        ...         ...      ...        ...    ...   \n",
      "6014    Diesel       Manual      First   28.4 kmpl  1248 CC     74 bhp    5.0   \n",
      "6015    Diesel       Manual      First   24.4 kmpl  1120 CC     71 bhp    5.0   \n",
      "6016    Diesel       Manual     Second   14.0 kmpl  2498 CC    112 bhp    8.0   \n",
      "6017    Petrol       Manual      First   18.9 kmpl   998 CC   67.1 bhp    5.0   \n",
      "6018    Diesel       Manual      First  25.44 kmpl   936 CC   57.6 bhp    5.0   \n",
      "\n",
      "      New_Price  Price  \n",
      "0           NaN   1.75  \n",
      "1           NaN  12.50  \n",
      "2     8.61 Lakh   4.50  \n",
      "3           NaN   6.00  \n",
      "4           NaN  17.74  \n",
      "...         ...    ...  \n",
      "6014  7.88 Lakh   4.75  \n",
      "6015        NaN   4.00  \n",
      "6016        NaN   2.90  \n",
      "6017        NaN   2.65  \n",
      "6018        NaN   2.50  \n",
      "\n",
      "[6019 rows x 13 columns]\n"
     ]
    }
   ],
   "source": [
    "df = pd.read_csv(\"https://storage.googleapis.com/esmartdata-courses-files/dash-course/data.csv\", index_col=0)\n",
    "print(df)"
   ]
  },
  {
   "cell_type": "markdown",
   "id": "75b9f1c0184964ca",
   "metadata": {
    "collapsed": false
   },
   "source": [
    "## Ćwiczenie 2"
   ]
  },
  {
   "cell_type": "markdown",
   "id": "f4f5bee50e8ab07f",
   "metadata": {
    "collapsed": false
   },
   "source": [
    "Znajdź listę zawierającą nazwy wszystkich kolumn obiektu df (zad 1). Wydrukuj listę do konsoli."
   ]
  },
  {
   "cell_type": "code",
   "execution_count": 3,
   "id": "965fd47e3383ce02",
   "metadata": {
    "collapsed": false
   },
   "outputs": [
    {
     "name": "stdout",
     "output_type": "stream",
     "text": [
      "['Name', 'Location', 'Year', 'Kilometers_Driven', 'Fuel_Type', 'Transmission', 'Owner_Type', 'Mileage', 'Engine', 'Power', 'Seats', 'New_Price', 'Price']\n"
     ]
    }
   ],
   "source": [
    "kolumny = df.columns.tolist()\n",
    "print(kolumny)"
   ]
  },
  {
   "cell_type": "markdown",
   "id": "f10ec758558f2c23",
   "metadata": {
    "collapsed": false
   },
   "source": [
    "## Ćwiczenie 3"
   ]
  },
  {
   "cell_type": "markdown",
   "id": "3aae1fb787546bb9",
   "metadata": {
    "collapsed": false
   },
   "source": [
    "Z obiektu df usuń kolumnę o nazwie New_Price i wydrukuj pierwsze 5 wierszy."
   ]
  },
  {
   "cell_type": "code",
   "execution_count": 4,
   "id": "4983c2c576ad182a",
   "metadata": {
    "collapsed": false
   },
   "outputs": [
    {
     "name": "stdout",
     "output_type": "stream",
     "text": [
      "                               Name    Location  Year  Kilometers_Driven  \\\n",
      "0            Maruti Wagon R LXI CNG      Mumbai  2010              72000   \n",
      "1  Hyundai Creta 1.6 CRDi SX Option        Pune  2015              41000   \n",
      "2                      Honda Jazz V     Chennai  2011              46000   \n",
      "3                 Maruti Ertiga VDI     Chennai  2012              87000   \n",
      "4   Audi A4 New 2.0 TDI Multitronic  Coimbatore  2013              40670   \n",
      "\n",
      "  Fuel_Type Transmission Owner_Type     Mileage   Engine      Power  Seats  \\\n",
      "0       CNG       Manual      First  26.6 km/kg   998 CC  58.16 bhp    5.0   \n",
      "1    Diesel       Manual      First  19.67 kmpl  1582 CC  126.2 bhp    5.0   \n",
      "2    Petrol       Manual      First   18.2 kmpl  1199 CC   88.7 bhp    5.0   \n",
      "3    Diesel       Manual      First  20.77 kmpl  1248 CC  88.76 bhp    7.0   \n",
      "4    Diesel    Automatic     Second   15.2 kmpl  1968 CC  140.8 bhp    5.0   \n",
      "\n",
      "   Price  \n",
      "0   1.75  \n",
      "1  12.50  \n",
      "2   4.50  \n",
      "3   6.00  \n",
      "4  17.74  \n"
     ]
    }
   ],
   "source": [
    "df.drop(\"New_Price\", axis=1, inplace=True)\n",
    "print(df.head())"
   ]
  },
  {
   "cell_type": "markdown",
   "id": "bbde43ebb3c19b15",
   "metadata": {
    "collapsed": false
   },
   "source": [
    "## Ćwiczenie 4"
   ]
  },
  {
   "cell_type": "markdown",
   "id": "ce5be05f2dcdaa0a",
   "metadata": {
    "collapsed": false
   },
   "source": [
    "Znajdź liczbę brakujących wartości dla każdej zmiennej w obiekcie df. Wydrukuj wynik do konsoli."
   ]
  },
  {
   "cell_type": "code",
   "execution_count": 5,
   "id": "a7bc8a13feeea31",
   "metadata": {
    "collapsed": false
   },
   "outputs": [
    {
     "name": "stdout",
     "output_type": "stream",
     "text": [
      "Name                  0\n",
      "Location              0\n",
      "Year                  0\n",
      "Kilometers_Driven     0\n",
      "Fuel_Type             0\n",
      "Transmission          0\n",
      "Owner_Type            0\n",
      "Mileage               2\n",
      "Engine               36\n",
      "Power                36\n",
      "Seats                42\n",
      "Price                 0\n",
      "dtype: int64\n"
     ]
    }
   ],
   "source": [
    "braki = df.isnull().sum()\n",
    "print(braki)"
   ]
  },
  {
   "cell_type": "markdown",
   "id": "c7aaa8e7e4c97ba6",
   "metadata": {
    "collapsed": false
   },
   "source": [
    "## Ćwiczenie 5"
   ]
  },
  {
   "cell_type": "markdown",
   "id": "8dce13cd0a5c0806",
   "metadata": {
    "collapsed": false
   },
   "source": [
    "Usuń wszystkie wiersze z brakami danych w obiekcie df. Użyj parametru inplace=True i wypisz\n",
    "informacje o obiekcie df."
   ]
  },
  {
   "cell_type": "code",
   "execution_count": 6,
   "id": "ea340b95bff9da8f",
   "metadata": {
    "collapsed": false
   },
   "outputs": [
    {
     "name": "stdout",
     "output_type": "stream",
     "text": [
      "<class 'pandas.core.frame.DataFrame'>\n",
      "Index: 5975 entries, 0 to 6018\n",
      "Data columns (total 12 columns):\n",
      " #   Column             Non-Null Count  Dtype  \n",
      "---  ------             --------------  -----  \n",
      " 0   Name               5975 non-null   object \n",
      " 1   Location           5975 non-null   object \n",
      " 2   Year               5975 non-null   int64  \n",
      " 3   Kilometers_Driven  5975 non-null   int64  \n",
      " 4   Fuel_Type          5975 non-null   object \n",
      " 5   Transmission       5975 non-null   object \n",
      " 6   Owner_Type         5975 non-null   object \n",
      " 7   Mileage            5975 non-null   object \n",
      " 8   Engine             5975 non-null   object \n",
      " 9   Power              5975 non-null   object \n",
      " 10  Seats              5975 non-null   float64\n",
      " 11  Price              5975 non-null   float64\n",
      "dtypes: float64(2), int64(2), object(8)\n",
      "memory usage: 606.8+ KB\n",
      "None\n"
     ]
    }
   ],
   "source": [
    "df.dropna(inplace=True)\n",
    "print(df.info())"
   ]
  },
  {
   "cell_type": "markdown",
   "id": "4696a870de64c274",
   "metadata": {
    "collapsed": false
   },
   "source": [
    "## Ćwiczenie 6"
   ]
  },
  {
   "cell_type": "markdown",
   "id": "ad4035b3f4aafa77",
   "metadata": {
    "collapsed": false
   },
   "source": [
    "Zastąp wszystkie duże litery w nazwach kolumn małymi, np. - Name -> name - Fuel_Type ->\n",
    "fuel_type\n",
    "Wyświetl pierwsze pięć wierszy za pomocą metody pd.DataFrame.head() i funkcji print()."
   ]
  },
  {
   "cell_type": "code",
   "execution_count": 7,
   "id": "42190a883164f91e",
   "metadata": {
    "collapsed": false
   },
   "outputs": [
    {
     "name": "stdout",
     "output_type": "stream",
     "text": [
      "                               name    location  year  kilometers_driven  \\\n",
      "0            Maruti Wagon R LXI CNG      Mumbai  2010              72000   \n",
      "1  Hyundai Creta 1.6 CRDi SX Option        Pune  2015              41000   \n",
      "2                      Honda Jazz V     Chennai  2011              46000   \n",
      "3                 Maruti Ertiga VDI     Chennai  2012              87000   \n",
      "4   Audi A4 New 2.0 TDI Multitronic  Coimbatore  2013              40670   \n",
      "\n",
      "  fuel_type transmission owner_type     mileage   engine      power  seats  \\\n",
      "0       CNG       Manual      First  26.6 km/kg   998 CC  58.16 bhp    5.0   \n",
      "1    Diesel       Manual      First  19.67 kmpl  1582 CC  126.2 bhp    5.0   \n",
      "2    Petrol       Manual      First   18.2 kmpl  1199 CC   88.7 bhp    5.0   \n",
      "3    Diesel       Manual      First  20.77 kmpl  1248 CC  88.76 bhp    7.0   \n",
      "4    Diesel    Automatic     Second   15.2 kmpl  1968 CC  140.8 bhp    5.0   \n",
      "\n",
      "   price  \n",
      "0   1.75  \n",
      "1  12.50  \n",
      "2   4.50  \n",
      "3   6.00  \n",
      "4  17.74  \n"
     ]
    }
   ],
   "source": [
    "df.columns = df.columns.str.lower()\n",
    "print(df.head())"
   ]
  },
  {
   "cell_type": "markdown",
   "id": "496629947ea6550b",
   "metadata": {
    "collapsed": false
   },
   "source": [
    "## Ćwiczenie 7"
   ]
  },
  {
   "cell_type": "markdown",
   "id": "63acecf9dbe22f9f",
   "metadata": {
    "collapsed": false
   },
   "source": [
    "Znajdź rozkład zmiennej owner_type i wydrukuj do konsoli."
   ]
  },
  {
   "cell_type": "markdown",
   "id": "c50bf63837c41c39",
   "metadata": {
    "collapsed": false
   },
   "source": [
    "### Miejsce na rozwiązanie"
   ]
  },
  {
   "cell_type": "code",
   "execution_count": 8,
   "id": "a6751ad991d4a54d",
   "metadata": {
    "collapsed": false
   },
   "outputs": [
    {
     "name": "stdout",
     "output_type": "stream",
     "text": [
      "owner_type\n",
      "First             4903\n",
      "Second             953\n",
      "Third              111\n",
      "Fourth & Above       8\n",
      "Name: count, dtype: int64\n"
     ]
    }
   ],
   "source": [
    "rozklad_owner_type = df[\"owner_type\"].value_counts()\n",
    "print(rozklad_owner_type)"
   ]
  },
  {
   "cell_type": "markdown",
   "id": "4a65028c892c4bc8",
   "metadata": {
    "collapsed": false
   },
   "source": [
    "## Ćwiczenie 8"
   ]
  },
  {
   "cell_type": "markdown",
   "id": "80df71baa84113a",
   "metadata": {
    "collapsed": false
   },
   "source": [
    "Spójrz na rozkład zmiennej engine. Zauważ, że zmienna engine jest typu object. Usuń ostatnie 3\n",
    "znaki z każdego elementu tej zmiennej i przekonwertuj na typ int. Wydrukuj pierwsze pięć wierszy\n",
    "za pomocą metody pd.DataFrame.head() i funkcji print() z kolumn: name oraz engine."
   ]
  },
  {
   "cell_type": "code",
   "execution_count": 9,
   "id": "818f039e76804759",
   "metadata": {
    "collapsed": false
   },
   "outputs": [
    {
     "name": "stdout",
     "output_type": "stream",
     "text": [
      "                               name  engine\n",
      "0            Maruti Wagon R LXI CNG     998\n",
      "1  Hyundai Creta 1.6 CRDi SX Option    1582\n",
      "2                      Honda Jazz V    1199\n",
      "3                 Maruti Ertiga VDI    1248\n",
      "4   Audi A4 New 2.0 TDI Multitronic    1968\n"
     ]
    }
   ],
   "source": [
    "df[\"engine\"] = df[\"engine\"].str[:-3].astype(int)\n",
    "print(df[[\"name\", \"engine\"]].head())"
   ]
  },
  {
   "cell_type": "markdown",
   "id": "e6aedb4b8e5851c",
   "metadata": {
    "collapsed": false
   },
   "source": [
    "## Ćwiczenie 9"
   ]
  },
  {
   "cell_type": "markdown",
   "id": "b113e774227042b9",
   "metadata": {
    "collapsed": false
   },
   "source": [
    "Spójrz na rozkład zmiennej power. Zwróć uwagę, że w tej zmiennej występują brakujące wartości w\n",
    "postaci null bhp. Zamień te brakujące wartości na np.nan. W tym celu użyj funkcji np.where().\n",
    "W odpowiedzi wydrukuj rozkład zmiennej power do konsoli (tylko pierwsze pięć elementów według\n",
    "częstotliwości)"
   ]
  },
  {
   "cell_type": "code",
   "execution_count": 10,
   "id": "c49ce0bf5dfb2cfe",
   "metadata": {
    "collapsed": false
   },
   "outputs": [
    {
     "name": "stdout",
     "output_type": "stream",
     "text": [
      "power\n",
      "74 bhp      235\n",
      "98.6 bhp    131\n",
      "73.9 bhp    125\n",
      "140 bhp     123\n",
      "78.9 bhp    111\n",
      "Name: count, dtype: int64\n"
     ]
    }
   ],
   "source": [
    "df[\"power\"] = np.where(df[\"power\"] == \"null bhp\", np.nan, df[\"power\"])\n",
    "rozklad_power = df[\"power\"].value_counts().head()\n",
    "print(rozklad_power)"
   ]
  },
  {
   "cell_type": "markdown",
   "id": "558a184b94674131",
   "metadata": {
    "collapsed": false
   },
   "source": [
    "## Ćwiczenie 10"
   ]
  },
  {
   "cell_type": "markdown",
   "id": "1587384ae60a6902",
   "metadata": {
    "collapsed": false
   },
   "source": [
    "Pogrupuj dane na poziomie roku (year) i policz liczbę wierszy dla każdego roku. Wydrukuj wynik\n",
    "do konsoli."
   ]
  },
  {
   "cell_type": "markdown",
   "id": "6822b2429f1d3596",
   "metadata": {
    "collapsed": false
   },
   "source": [
    "### Miejsce na rozwiązanie"
   ]
  },
  {
   "cell_type": "code",
   "execution_count": 12,
   "id": "8f275b0802072d5f",
   "metadata": {
    "collapsed": false
   },
   "outputs": [
    {
     "name": "stdout",
     "output_type": "stream",
     "text": [
      "year\n",
      "1998      4\n",
      "1999      2\n",
      "2000      4\n",
      "2001      7\n",
      "2002     14\n",
      "2003     15\n",
      "2004     29\n",
      "2005     55\n",
      "2006     75\n",
      "2007    123\n",
      "2008    169\n",
      "2009    196\n",
      "2010    339\n",
      "2011    461\n",
      "2012    572\n",
      "2013    648\n",
      "2014    795\n",
      "2015    741\n",
      "2016    740\n",
      "2017    586\n",
      "2018    298\n",
      "2019    102\n",
      "dtype: int64\n"
     ]
    }
   ],
   "source": [
    "liczba_wierszy_na_rok = df.groupby(\"year\").size()\n",
    "print(liczba_wierszy_na_rok)"
   ]
  },
  {
   "cell_type": "markdown",
   "id": "ea19b61d",
   "metadata": {},
   "source": [
    "Wnioski: Zadania były jasne i klarowne, nie sprawiły problemów."
   ]
  }
 ],
 "metadata": {
  "kernelspec": {
   "display_name": "Python 3",
   "language": "python",
   "name": "python3"
  },
  "language_info": {
   "codemirror_mode": {
    "name": "ipython",
    "version": 3
   },
   "file_extension": ".py",
   "mimetype": "text/x-python",
   "name": "python",
   "nbconvert_exporter": "python",
   "pygments_lexer": "ipython3",
   "version": "3.11.7"
  }
 },
 "nbformat": 4,
 "nbformat_minor": 5
}
