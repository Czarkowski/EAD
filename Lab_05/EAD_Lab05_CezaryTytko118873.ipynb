{
 "cells": [
  {
   "cell_type": "markdown",
   "metadata": {},
   "source": [
    "Cezary Tytko 118873"
   ]
  },
  {
   "cell_type": "code",
   "execution_count": 1,
   "id": "8ac40dced1d1fc4c",
   "metadata": {
    "ExecuteTime": {
     "end_time": "2023-11-02T17:30:20.489097100Z",
     "start_time": "2023-11-02T17:30:20.285766500Z"
    },
    "collapsed": false
   },
   "outputs": [],
   "source": [
    "import pandas as pd\n",
    "import numpy as np"
   ]
  },
  {
   "cell_type": "markdown",
   "id": "24ab3b2fb11230a4",
   "metadata": {
    "collapsed": false
   },
   "source": [
    "# Zadania do samodzielnego wykonania"
   ]
  },
  {
   "cell_type": "markdown",
   "id": "4cee95e32bcbd29e",
   "metadata": {
    "collapsed": false
   },
   "source": [
    "## Ćwiczenie 1"
   ]
  },
  {
   "cell_type": "markdown",
   "id": "92e7f08549810f76",
   "metadata": {
    "collapsed": false
   },
   "source": [
    "Stwórz DataFrame z trzema kolumnami: \"Nazwisko\", \"Wiek\" i \"Ocena\". Dodaj do niego co najmniej 5 rekordów."
   ]
  },
  {
   "cell_type": "code",
   "execution_count": 2,
   "id": "c0fa1d8339c7211e",
   "metadata": {
    "collapsed": false
   },
   "outputs": [
    {
     "name": "stdout",
     "output_type": "stream",
     "text": [
      "      Nazwisko  Wiek  Ocena\n",
      "0     Kowalski    30    4.5\n",
      "1        Nowak    28    3.2\n",
      "2   Wiśniewski    26    5.0\n",
      "3    Dąbrowski    33    4.8\n",
      "4  Lewandowski    22    3.9\n"
     ]
    }
   ],
   "source": [
    "data = {\n",
    "    'Nazwisko': ['Kowalski', 'Nowak', 'Wiśniewski', 'Dąbrowski', 'Lewandowski'],\n",
    "    'Wiek': [30, 28, 26, 33, 22],\n",
    "    'Ocena': [4.5, 3.2, 5.0, 4.8, 3.9]\n",
    "}\n",
    "\n",
    "df = pd.DataFrame(data)\n",
    "print(df)\n"
   ]
  },
  {
   "cell_type": "markdown",
   "id": "75b9f1c0184964ca",
   "metadata": {
    "collapsed": false
   },
   "source": [
    "## Ćwiczenie 2"
   ]
  },
  {
   "cell_type": "markdown",
   "id": "f4f5bee50e8ab07f",
   "metadata": {
    "collapsed": false
   },
   "source": [
    "Wybierz tylko te rekordy, w których wiek jest większy niż 25."
   ]
  },
  {
   "cell_type": "code",
   "execution_count": 3,
   "id": "965fd47e3383ce02",
   "metadata": {
    "collapsed": false
   },
   "outputs": [
    {
     "name": "stdout",
     "output_type": "stream",
     "text": [
      "     Nazwisko  Wiek  Ocena\n",
      "0    Kowalski    30    4.5\n",
      "1       Nowak    28    3.2\n",
      "2  Wiśniewski    26    5.0\n",
      "3   Dąbrowski    33    4.8\n"
     ]
    }
   ],
   "source": [
    "df_wiek_powyzej_25 = df[df['Wiek'] > 25]\n",
    "print(df_wiek_powyzej_25)"
   ]
  },
  {
   "cell_type": "markdown",
   "id": "f10ec758558f2c23",
   "metadata": {
    "collapsed": false
   },
   "source": [
    "## Ćwiczenie 3"
   ]
  },
  {
   "cell_type": "markdown",
   "id": "3aae1fb787546bb9",
   "metadata": {
    "collapsed": false
   },
   "source": [
    "Posortuj DataFrame względem kolumny \"Ocena\" w malejącej kolejności."
   ]
  },
  {
   "cell_type": "code",
   "execution_count": 4,
   "id": "4983c2c576ad182a",
   "metadata": {
    "collapsed": false
   },
   "outputs": [
    {
     "name": "stdout",
     "output_type": "stream",
     "text": [
      "      Nazwisko  Wiek  Ocena\n",
      "2   Wiśniewski    26    5.0\n",
      "3    Dąbrowski    33    4.8\n",
      "0     Kowalski    30    4.5\n",
      "4  Lewandowski    22    3.9\n",
      "1        Nowak    28    3.2\n"
     ]
    }
   ],
   "source": [
    "df_posortowane = df.sort_values(by='Ocena', ascending=False)\n",
    "print(df_posortowane)"
   ]
  },
  {
   "cell_type": "markdown",
   "id": "bbde43ebb3c19b15",
   "metadata": {
    "collapsed": false
   },
   "source": [
    "## Ćwiczenie 4"
   ]
  },
  {
   "cell_type": "markdown",
   "id": "ce5be05f2dcdaa0a",
   "metadata": {
    "collapsed": false
   },
   "source": [
    "Oblicz średnią wieku dla wszystkich rekordów w DataFrame."
   ]
  },
  {
   "cell_type": "code",
   "execution_count": 5,
   "id": "a7bc8a13feeea31",
   "metadata": {
    "collapsed": false
   },
   "outputs": [
    {
     "name": "stdout",
     "output_type": "stream",
     "text": [
      "Średnia wieku: 27.8\n"
     ]
    }
   ],
   "source": [
    "srednia_wieku = df['Wiek'].mean()\n",
    "print(f\"Średnia wieku: {srednia_wieku}\")"
   ]
  },
  {
   "cell_type": "markdown",
   "id": "c7aaa8e7e4c97ba6",
   "metadata": {
    "collapsed": false
   },
   "source": [
    "## Ćwiczenie 5"
   ]
  },
  {
   "cell_type": "markdown",
   "id": "8dce13cd0a5c0806",
   "metadata": {
    "collapsed": false
   },
   "source": [
    "Zapisz DataFrame do pliku CSV."
   ]
  },
  {
   "cell_type": "code",
   "execution_count": 6,
   "id": "ea340b95bff9da8f",
   "metadata": {
    "collapsed": false
   },
   "outputs": [],
   "source": [
    "df.to_csv('dane.csv', index=False)"
   ]
  },
  {
   "cell_type": "markdown",
   "id": "4696a870de64c274",
   "metadata": {
    "collapsed": false
   },
   "source": [
    "## Ćwiczenie 6"
   ]
  },
  {
   "cell_type": "markdown",
   "id": "ad4035b3f4aafa77",
   "metadata": {
    "collapsed": false
   },
   "source": [
    "Stwórz DataFrame z dwoma kolumnami: \"Data\" (typu datetime) i \"Wartość\" (typu float). Wypełnij DataFrame danymi, które mają trend wzrostowy, ale z pewnymi losowymi fluktuacjami."
   ]
  },
  {
   "cell_type": "code",
   "execution_count": 8,
   "id": "42190a883164f91e",
   "metadata": {
    "collapsed": false
   },
   "outputs": [
    {
     "name": "stdout",
     "output_type": "stream",
     "text": [
      "         Data     Wartość\n",
      "0  2024-01-01    0.398901\n",
      "1  2024-01-02    2.203431\n",
      "2  2024-01-03    3.891551\n",
      "3  2024-01-04    5.514740\n",
      "4  2024-01-05    6.768032\n",
      "..        ...         ...\n",
      "95 2024-04-05  142.105953\n",
      "96 2024-04-06  143.594535\n",
      "97 2024-04-07  145.087371\n",
      "98 2024-04-08  146.241011\n",
      "99 2024-04-09  148.031361\n",
      "\n",
      "[100 rows x 2 columns]\n"
     ]
    }
   ],
   "source": [
    "data_trend = {\n",
    "    'Data': pd.date_range(start='2024-01-01', periods=100, freq='D'),\n",
    "    'Wartość': np.random.normal(loc=1.5, scale=0.5, size=100).cumsum()\n",
    "}\n",
    "\n",
    "df_trend = pd.DataFrame(data_trend)\n",
    "print(df_trend)"
   ]
  },
  {
   "cell_type": "markdown",
   "id": "496629947ea6550b",
   "metadata": {
    "collapsed": false
   },
   "source": [
    "## Ćwiczenie 7"
   ]
  },
  {
   "cell_type": "markdown",
   "id": "63acecf9dbe22f9f",
   "metadata": {
    "collapsed": false
   },
   "source": [
    "Wykorzystaj Pandas do wykonania operacji grupowania i obliczenia średniej kroczącej dla kolumny \"Wartość\" w oknie czasowym."
   ]
  },
  {
   "cell_type": "markdown",
   "id": "c50bf63837c41c39",
   "metadata": {
    "collapsed": false
   },
   "source": [
    "### Miejsce na rozwiązanie"
   ]
  },
  {
   "cell_type": "code",
   "execution_count": 10,
   "id": "a6751ad991d4a54d",
   "metadata": {
    "collapsed": false
   },
   "outputs": [
    {
     "name": "stdout",
     "output_type": "stream",
     "text": [
      "         Data     Wartość  Srednia_kroczaca\n",
      "0  2024-01-01    0.398901               NaN\n",
      "1  2024-01-02    2.203431          2.164628\n",
      "2  2024-01-03    3.891551          3.869908\n",
      "3  2024-01-04    5.514740          5.391441\n",
      "4  2024-01-05    6.768032          6.940078\n",
      "..        ...         ...               ...\n",
      "95 2024-04-05  142.105953        141.994756\n",
      "96 2024-04-06  143.594535        143.595953\n",
      "97 2024-04-07  145.087371        144.974306\n",
      "98 2024-04-08  146.241011        146.453247\n",
      "99 2024-04-09  148.031361               NaN\n",
      "\n",
      "[100 rows x 3 columns]\n"
     ]
    }
   ],
   "source": [
    "df_trend['Srednia_kroczaca'] = df_trend['Wartość'].rolling(window=3, center=True).mean()\n",
    "print(df_trend)"
   ]
  },
  {
   "cell_type": "markdown",
   "id": "4a65028c892c4bc8",
   "metadata": {
    "collapsed": false
   },
   "source": [
    "## Ćwiczenie 8"
   ]
  },
  {
   "cell_type": "markdown",
   "id": "80df71baa84113a",
   "metadata": {
    "collapsed": false
   },
   "source": [
    "Złącz dwa różne DataFrames w oparciu o wspólną kolumnę, używając różnych rodzajów łączenia (inner, outer, left, right)."
   ]
  },
  {
   "cell_type": "code",
   "execution_count": 11,
   "id": "818f039e76804759",
   "metadata": {
    "collapsed": false
   },
   "outputs": [
    {
     "name": "stdout",
     "output_type": "stream",
     "text": [
      "Inner Join:\n",
      "   ID   A   B\n",
      "0   2  a2  b2\n",
      "1   3  a3  b3\n",
      "\n",
      "Outer Join:\n",
      "   ID    A    B\n",
      "0   1   a1  NaN\n",
      "1   2   a2   b2\n",
      "2   3   a3   b3\n",
      "3   4  NaN   b4\n",
      "\n",
      "Left Join:\n",
      "   ID   A    B\n",
      "0   1  a1  NaN\n",
      "1   2  a2   b2\n",
      "2   3  a3   b3\n",
      "\n",
      "Right Join:\n",
      "   ID    A   B\n",
      "0   2   a2  b2\n",
      "1   3   a3  b3\n",
      "2   4  NaN  b4\n"
     ]
    }
   ],
   "source": [
    "df1 = pd.DataFrame({'ID': [1, 2, 3], 'A': ['a1', 'a2', 'a3']})\n",
    "df2 = pd.DataFrame({'ID': [2, 3, 4], 'B': ['b2', 'b3', 'b4']})\n",
    "\n",
    "df_inner = pd.merge(df1, df2, on='ID', how='inner')\n",
    "df_outer = pd.merge(df1, df2, on='ID', how='outer')\n",
    "df_left = pd.merge(df1, df2, on='ID', how='left')\n",
    "df_right = pd.merge(df1, df2, on='ID', how='right')\n",
    "\n",
    "print(\"Inner Join:\")\n",
    "print(df_inner)\n",
    "print(\"\\nOuter Join:\")\n",
    "print(df_outer)\n",
    "print(\"\\nLeft Join:\")\n",
    "print(df_left)\n",
    "print(\"\\nRight Join:\")\n",
    "print(df_right)"
   ]
  },
  {
   "cell_type": "markdown",
   "id": "e6aedb4b8e5851c",
   "metadata": {
    "collapsed": false
   },
   "source": [
    "## Ćwiczenie 9"
   ]
  },
  {
   "cell_type": "markdown",
   "id": "b113e774227042b9",
   "metadata": {
    "collapsed": false
   },
   "source": [
    "Zapisz DataFrame do pliku JSON."
   ]
  },
  {
   "cell_type": "code",
   "execution_count": 12,
   "id": "c49ce0bf5dfb2cfe",
   "metadata": {
    "collapsed": false
   },
   "outputs": [],
   "source": [
    "df.to_json('dane.json', orient='records', lines=True)"
   ]
  },
  {
   "cell_type": "markdown",
   "id": "ea19b61d",
   "metadata": {},
   "source": [
    "Wnioski: \n",
    "Zdania przechodziły przez różne funkcjonalności biblioteki pandas i zwierają metody które miałem już okazję wykorzystać w praktyce, jak średnie krocząca (bardzo ważna przy analizie danych, ale należy pamiętać o wartościach NaN na skraju), łączenie DataFrame na podstawie kolumny (bardzo podobny mechanizm jak przy relacyjnych bazach danych) i suma skumulowana cumsum "
   ]
  }
 ],
 "metadata": {
  "kernelspec": {
   "display_name": "Python 3",
   "language": "python",
   "name": "python3"
  },
  "language_info": {
   "codemirror_mode": {
    "name": "ipython",
    "version": 3
   },
   "file_extension": ".py",
   "mimetype": "text/x-python",
   "name": "python",
   "nbconvert_exporter": "python",
   "pygments_lexer": "ipython3",
   "version": "3.10.10"
  }
 },
 "nbformat": 4,
 "nbformat_minor": 5
}
