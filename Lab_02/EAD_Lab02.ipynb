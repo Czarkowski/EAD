{
 "cells": [
  {
   "cell_type": "code",
   "execution_count": 2,
   "id": "c3f808a3-5f2e-4e9a-84ee-138656e8080c",
   "metadata": {},
   "outputs": [],
   "source": [
    "import pandas as pd"
   ]
  },
  {
   "cell_type": "markdown",
   "id": "24e1454e-f323-4db0-935d-82faa6edc247",
   "metadata": {},
   "source": [
    "# Dane studenta"
   ]
  },
  {
   "cell_type": "code",
   "execution_count": null,
   "id": "9b427e16-75e7-40cb-ba20-89f3fe796f60",
   "metadata": {},
   "outputs": [],
   "source": [
    "Cezary Tytko 118873 "
   ]
  },
  {
   "cell_type": "markdown",
   "id": "8cce211a-11f6-403f-a722-3b61d6029965",
   "metadata": {},
   "source": [
    "# Zadania do samodzilnego wykonania"
   ]
  },
  {
   "cell_type": "markdown",
   "id": "7d4d45e4-41e3-419e-918b-280f73f4f3ea",
   "metadata": {},
   "source": [
    "#### Wczytany plik google.csv będzie potrzebny do realizacji zadań od 1 do 10"
   ]
  },
  {
   "cell_type": "markdown",
   "id": "0aa7dbe9-af3a-4560-bc1a-8c74bd2a8fed",
   "metadata": {},
   "source": [
    "## Zadanie 1"
   ]
  },
  {
   "cell_type": "markdown",
   "id": "3af18398-57dd-4c70-aff7-666ba08c9c30",
   "metadata": {},
   "source": [
    "Załaduj zawartość pliku google.csv do obiektu DataFrame za pomocą biblioteki pandas i przypisz go do zmiennej google. Wydrukuj zawartość zmiennej google do konsoli."
   ]
  },
  {
   "cell_type": "markdown",
   "id": "06a12dbd-8ee4-4943-ab17-6916342c7270",
   "metadata": {},
   "source": [
    "### Miejsce na rozwiązanie"
   ]
  },
  {
   "cell_type": "code",
   "execution_count": 63,
   "id": "caa5b57f-2590-4d1b-a0a1-2baf15b16afa",
   "metadata": {},
   "outputs": [
    {
     "name": "stdout",
     "output_type": "stream",
     "text": [
      "               Open       High        Low    Close   Volume\n",
      "Date                                                       \n",
      "2020-07-02  1451.84  1488.5200  1451.0650  1469.93  2860915\n",
      "2020-07-01  1419.17  1448.4800  1414.1800  1442.00  2109124\n",
      "2020-06-30  1396.88  1424.0000  1386.9301  1418.05  2014320\n",
      "2020-06-29  1360.34  1398.0000  1351.6500  1397.17  2253678\n",
      "2020-06-26  1432.63  1437.0200  1355.0000  1362.54  4882014\n",
      "2020-06-25  1431.22  1442.3200  1419.5401  1441.10  1197907\n",
      "2020-06-24  1463.28  1475.7900  1430.0000  1432.70  1579579\n",
      "2020-06-23  1452.00  1475.2000  1445.0000  1463.98  1887583\n",
      "2020-06-22  1425.01  1450.9500  1419.1900  1450.66  1472072\n",
      "2020-06-19  1440.00  1444.5000  1419.0000  1424.64  2639167\n",
      "2020-06-18  1449.85  1452.9699  1426.2350  1434.12  1743071\n",
      "2020-06-17  1452.94  1462.2000  1435.1250  1452.54  1530500\n",
      "2020-06-16  1449.00  1457.1700  1428.9900  1446.47  1534826\n",
      "2020-06-15  1389.49  1425.0000  1387.1952  1420.74  1527652\n",
      "2020-06-12  1425.86  1434.5050  1385.8000  1412.92  1833756\n",
      "2020-06-11  1441.03  1451.6033  1398.4100  1401.90  2357243\n",
      "2020-06-10  1461.51  1472.7700  1454.3550  1464.70  1588116\n",
      "2020-06-09  1445.24  1467.8000  1442.3600  1452.08  1681155\n",
      "2020-06-08  1426.28  1449.0000  1424.4800  1448.04  1693881\n",
      "2020-06-05  1415.64  1446.3000  1407.6213  1440.02  2132350\n",
      "2020-06-04  1436.78  1441.3200  1406.0100  1414.30  1349105\n",
      "2020-06-03  1442.70  1449.0100  1431.6200  1439.25  1386640\n",
      "2020-06-02  1435.00  1443.0000  1421.6100  1442.31  1172069\n",
      "2020-06-01  1425.70  1441.5800  1422.2800  1434.87  1259254\n",
      "2020-05-29  1420.43  1436.7300  1415.9800  1433.52  1852522\n",
      "2020-05-28  1400.00  1444.4600  1399.0760  1418.24  1759787\n",
      "2020-05-27  1420.00  1425.3450  1394.6000  1420.28  1584185\n",
      "2020-05-26  1441.96  1445.1100  1419.3950  1421.37  2229488\n",
      "2020-05-22  1403.90  1417.0000  1395.9500  1413.24  1427206\n",
      "2020-05-21  1410.99  1416.4600  1394.3900  1406.75  1544976\n"
     ]
    }
   ],
   "source": [
    "df_google = pd.read_csv('google.csv', index_col=0)\n",
    "print(df_google)"
   ]
  },
  {
   "cell_type": "markdown",
   "id": "0425c4b1-3025-4964-97d1-801e5c515361",
   "metadata": {},
   "source": [
    "## Zadanie 2"
   ]
  },
  {
   "cell_type": "markdown",
   "id": "f76d152f-e53c-4999-a8bd-257613802ee7",
   "metadata": {},
   "source": [
    "Dla załadowanego pliku z zadania 1 wykonaj następujące polecenia:\n",
    "- wydrukuj podstawowe informacje o obiekcie google\n",
    "- wydrukuj pustą linię\n",
    "- wydrukuj podstawowe statystyki obiektu google"
   ]
  },
  {
   "cell_type": "markdown",
   "id": "8f7a14aa-0478-4b30-927e-dfac05f733e0",
   "metadata": {},
   "source": [
    "Wskazówka: Użyj `pd.DataFrame.into()` oraz `pd.DataFrame.describe()`."
   ]
  },
  {
   "cell_type": "markdown",
   "id": "29ccaadb-169c-4dd2-8283-d493a9a84a55",
   "metadata": {},
   "source": [
    "### Miejsce na rozwiązanie"
   ]
  },
  {
   "cell_type": "code",
   "execution_count": 64,
   "id": "e4f4e006-18c8-4a80-985c-a9b48ff30261",
   "metadata": {},
   "outputs": [
    {
     "name": "stdout",
     "output_type": "stream",
     "text": [
      "<class 'pandas.core.frame.DataFrame'>\n",
      "Index: 30 entries, 2020-07-02 to 2020-05-21\n",
      "Data columns (total 5 columns):\n",
      " #   Column  Non-Null Count  Dtype  \n",
      "---  ------  --------------  -----  \n",
      " 0   Open    30 non-null     float64\n",
      " 1   High    30 non-null     float64\n",
      " 2   Low     30 non-null     float64\n",
      " 3   Close   30 non-null     float64\n",
      " 4   Volume  30 non-null     int64  \n",
      "dtypes: float64(4), int64(1)\n",
      "memory usage: 1.4+ KB\n",
      "None\n",
      "\n",
      "              Open         High          Low        Close        Volume\n",
      "count    30.000000    30.000000    30.000000    30.000000  3.000000e+01\n",
      "mean   1428.889000  1445.470440  1412.767923  1430.681000  1.869471e+06\n",
      "std      22.943586    19.462454    24.728358    22.717075  7.014872e+05\n",
      "min    1360.340000  1398.000000  1351.650000  1362.540000  1.172069e+06\n",
      "25%    1419.377500  1436.802500  1396.565000  1418.097500  1.528364e+06\n",
      "50%    1431.925000  1444.805000  1419.095000  1433.820000  1.687518e+06\n",
      "75%    1444.605000  1452.628250  1428.301250  1445.430000  2.085423e+06\n",
      "max    1463.280000  1488.520000  1454.355000  1469.930000  4.882014e+06\n"
     ]
    }
   ],
   "source": [
    "print(df_google.info())\n",
    "print()\n",
    "print(df_google.describe())"
   ]
  },
  {
   "cell_type": "markdown",
   "id": "089b25b7-6bf5-4e44-9315-eaf04cbef788",
   "metadata": {},
   "source": [
    "## Zadanie 3"
   ]
  },
  {
   "cell_type": "markdown",
   "id": "fdf2ee5c-7aa8-48e9-9d8e-e4568ce3847d",
   "metadata": {},
   "source": [
    "Dla załadowanego pliku z zadania 1 zamień indeks podanego obiektu DataFrame na kolumnę i przypisz na stałe zmiany do zmiennej google. Wydrukuj zawartość zmiennej google do konsoli."
   ]
  },
  {
   "cell_type": "markdown",
   "id": "5bb87c34-68b3-42dd-89d4-e91ec3d48b8f",
   "metadata": {},
   "source": [
    "### Miejsce na rozwiązanie"
   ]
  },
  {
   "cell_type": "code",
   "execution_count": 65,
   "id": "a35b2096-0022-4337-837c-ad8e14aa7cb1",
   "metadata": {},
   "outputs": [
    {
     "name": "stdout",
     "output_type": "stream",
     "text": [
      "          Date     Open       High        Low    Close   Volume\n",
      "0   2020-07-02  1451.84  1488.5200  1451.0650  1469.93  2860915\n",
      "1   2020-07-01  1419.17  1448.4800  1414.1800  1442.00  2109124\n",
      "2   2020-06-30  1396.88  1424.0000  1386.9301  1418.05  2014320\n",
      "3   2020-06-29  1360.34  1398.0000  1351.6500  1397.17  2253678\n",
      "4   2020-06-26  1432.63  1437.0200  1355.0000  1362.54  4882014\n",
      "5   2020-06-25  1431.22  1442.3200  1419.5401  1441.10  1197907\n",
      "6   2020-06-24  1463.28  1475.7900  1430.0000  1432.70  1579579\n",
      "7   2020-06-23  1452.00  1475.2000  1445.0000  1463.98  1887583\n",
      "8   2020-06-22  1425.01  1450.9500  1419.1900  1450.66  1472072\n",
      "9   2020-06-19  1440.00  1444.5000  1419.0000  1424.64  2639167\n",
      "10  2020-06-18  1449.85  1452.9699  1426.2350  1434.12  1743071\n",
      "11  2020-06-17  1452.94  1462.2000  1435.1250  1452.54  1530500\n",
      "12  2020-06-16  1449.00  1457.1700  1428.9900  1446.47  1534826\n",
      "13  2020-06-15  1389.49  1425.0000  1387.1952  1420.74  1527652\n",
      "14  2020-06-12  1425.86  1434.5050  1385.8000  1412.92  1833756\n",
      "15  2020-06-11  1441.03  1451.6033  1398.4100  1401.90  2357243\n",
      "16  2020-06-10  1461.51  1472.7700  1454.3550  1464.70  1588116\n",
      "17  2020-06-09  1445.24  1467.8000  1442.3600  1452.08  1681155\n",
      "18  2020-06-08  1426.28  1449.0000  1424.4800  1448.04  1693881\n",
      "19  2020-06-05  1415.64  1446.3000  1407.6213  1440.02  2132350\n",
      "20  2020-06-04  1436.78  1441.3200  1406.0100  1414.30  1349105\n",
      "21  2020-06-03  1442.70  1449.0100  1431.6200  1439.25  1386640\n",
      "22  2020-06-02  1435.00  1443.0000  1421.6100  1442.31  1172069\n",
      "23  2020-06-01  1425.70  1441.5800  1422.2800  1434.87  1259254\n",
      "24  2020-05-29  1420.43  1436.7300  1415.9800  1433.52  1852522\n",
      "25  2020-05-28  1400.00  1444.4600  1399.0760  1418.24  1759787\n",
      "26  2020-05-27  1420.00  1425.3450  1394.6000  1420.28  1584185\n",
      "27  2020-05-26  1441.96  1445.1100  1419.3950  1421.37  2229488\n",
      "28  2020-05-22  1403.90  1417.0000  1395.9500  1413.24  1427206\n",
      "29  2020-05-21  1410.99  1416.4600  1394.3900  1406.75  1544976\n"
     ]
    }
   ],
   "source": [
    "# df_google = df_google.set_index('Date')\n",
    "# df_google['i'] = df_google.index\n",
    "df_google = df_google.reset_index()\n",
    "print(df_google)"
   ]
  },
  {
   "cell_type": "markdown",
   "id": "8d5c0a3a-9dab-45c5-9de1-044c22d37ffa",
   "metadata": {},
   "source": [
    "## Zadanie 4"
   ]
  },
  {
   "cell_type": "markdown",
   "id": "24a15a6f-f38d-403f-8389-8b973fc1b5e7",
   "metadata": {},
   "source": [
    "Przypisz dwie nowe kolumny do obiektu google (z pliku z zad.1) dodając kolumnę z numerem bieżącego miesiąca o nazwie 'Month' oraz kolumnę zawierającą odpowiedni rok o nazwie 'Year'. Wydrukuj wynik do konsoli."
   ]
  },
  {
   "cell_type": "markdown",
   "id": "670a4ee8-8541-4b91-ad4e-2c6e98f8d280",
   "metadata": {},
   "source": [
    "### Miejsce na rozwiązanie"
   ]
  },
  {
   "cell_type": "code",
   "execution_count": 66,
   "id": "0bf96acd-f9fe-4e5e-88a4-505667f58bda",
   "metadata": {},
   "outputs": [
    {
     "name": "stdout",
     "output_type": "stream",
     "text": [
      "         Date     Open       High        Low    Close   Volume  Month  Year\n",
      "0  2020-07-02  1451.84  1488.5200  1451.0650  1469.93  2860915      7  2020\n",
      "1  2020-07-01  1419.17  1448.4800  1414.1800  1442.00  2109124      7  2020\n",
      "2  2020-06-30  1396.88  1424.0000  1386.9301  1418.05  2014320      6  2020\n",
      "3  2020-06-29  1360.34  1398.0000  1351.6500  1397.17  2253678      6  2020\n",
      "4  2020-06-26  1432.63  1437.0200  1355.0000  1362.54  4882014      6  2020\n",
      "5  2020-06-25  1431.22  1442.3200  1419.5401  1441.10  1197907      6  2020\n",
      "6  2020-06-24  1463.28  1475.7900  1430.0000  1432.70  1579579      6  2020\n",
      "7  2020-06-23  1452.00  1475.2000  1445.0000  1463.98  1887583      6  2020\n",
      "8  2020-06-22  1425.01  1450.9500  1419.1900  1450.66  1472072      6  2020\n",
      "9  2020-06-19  1440.00  1444.5000  1419.0000  1424.64  2639167      6  2020\n",
      "10 2020-06-18  1449.85  1452.9699  1426.2350  1434.12  1743071      6  2020\n",
      "11 2020-06-17  1452.94  1462.2000  1435.1250  1452.54  1530500      6  2020\n",
      "12 2020-06-16  1449.00  1457.1700  1428.9900  1446.47  1534826      6  2020\n",
      "13 2020-06-15  1389.49  1425.0000  1387.1952  1420.74  1527652      6  2020\n",
      "14 2020-06-12  1425.86  1434.5050  1385.8000  1412.92  1833756      6  2020\n",
      "15 2020-06-11  1441.03  1451.6033  1398.4100  1401.90  2357243      6  2020\n",
      "16 2020-06-10  1461.51  1472.7700  1454.3550  1464.70  1588116      6  2020\n",
      "17 2020-06-09  1445.24  1467.8000  1442.3600  1452.08  1681155      6  2020\n",
      "18 2020-06-08  1426.28  1449.0000  1424.4800  1448.04  1693881      6  2020\n",
      "19 2020-06-05  1415.64  1446.3000  1407.6213  1440.02  2132350      6  2020\n",
      "20 2020-06-04  1436.78  1441.3200  1406.0100  1414.30  1349105      6  2020\n",
      "21 2020-06-03  1442.70  1449.0100  1431.6200  1439.25  1386640      6  2020\n",
      "22 2020-06-02  1435.00  1443.0000  1421.6100  1442.31  1172069      6  2020\n",
      "23 2020-06-01  1425.70  1441.5800  1422.2800  1434.87  1259254      6  2020\n",
      "24 2020-05-29  1420.43  1436.7300  1415.9800  1433.52  1852522      5  2020\n",
      "25 2020-05-28  1400.00  1444.4600  1399.0760  1418.24  1759787      5  2020\n",
      "26 2020-05-27  1420.00  1425.3450  1394.6000  1420.28  1584185      5  2020\n",
      "27 2020-05-26  1441.96  1445.1100  1419.3950  1421.37  2229488      5  2020\n",
      "28 2020-05-22  1403.90  1417.0000  1395.9500  1413.24  1427206      5  2020\n",
      "29 2020-05-21  1410.99  1416.4600  1394.3900  1406.75  1544976      5  2020\n"
     ]
    }
   ],
   "source": [
    "# df_google.index = pd.to_datetime(df_google.index)\n",
    "# df_google['Month'] = df_google.index.month\n",
    "# df_google['Year'] = df_google.index.year\n",
    "df_google.Date = pd.to_datetime(df_google.Date)\n",
    "df_google['Month'] = df_google.Date.dt.month\n",
    "df_google['Year'] = df_google.Date.dt.year\n",
    "print(df_google)"
   ]
  },
  {
   "cell_type": "markdown",
   "id": "c671535b-0f4f-4623-bd0b-2f499b5e9a60",
   "metadata": {},
   "source": [
    "## Zadanie 5"
   ]
  },
  {
   "cell_type": "markdown",
   "id": "0d65a474-f297-4b76-b71f-69d6bc25c109",
   "metadata": {},
   "source": [
    "Oblicz średnią cenę zamknięcia dla każdego miesiąca. Wydrukuj wynik do konsoli.\n",
    "\n",
    "Wskazówka: dane pogrupuj według miesiąca - kolumna Month, a następnie policz średnią wartość."
   ]
  },
  {
   "cell_type": "markdown",
   "id": "43f5942a-17dc-423e-bcaf-9623f0f41438",
   "metadata": {},
   "source": [
    "### Miejsce na rozwiązanie"
   ]
  },
  {
   "cell_type": "code",
   "execution_count": 67,
   "id": "bcad4a71-98a1-4101-bec3-1fb516f4378c",
   "metadata": {},
   "outputs": [
    {
     "name": "stdout",
     "output_type": "stream",
     "text": [
      "Month\n",
      "5    1418.900000\n",
      "6    1431.595455\n",
      "7    1455.965000\n",
      "Name: Close, dtype: float64\n"
     ]
    }
   ],
   "source": [
    "mean = df_google.groupby(df_google.Month)['Close'].mean()\n",
    "print(mean)"
   ]
  },
  {
   "cell_type": "markdown",
   "id": "b2aa9c9e-de40-4aae-a303-b22a6b59c957",
   "metadata": {},
   "source": [
    "## Zadanie 6"
   ]
  },
  {
   "cell_type": "markdown",
   "id": "c9d1c5b8-03ff-424e-ac4a-c67d6d938d63",
   "metadata": {},
   "source": [
    "Znajdź indeks dla którego kolumna Close ma najniższą wartość i przypisz go do zmiennej idx_min. Następnie wyodrębnij wiersz dla tego indeksu z obiektu google jako obiekt DataFrame. Wydrukuj ten wiersz do konsoli."
   ]
  },
  {
   "cell_type": "markdown",
   "id": "1f2acb24-b9a3-4c26-a65e-3e9c6cb36460",
   "metadata": {},
   "source": [
    "### Miejsce na rozwiązanie"
   ]
  },
  {
   "cell_type": "code",
   "execution_count": 68,
   "id": "0fdd9911-622e-44d3-8f18-94924644a492",
   "metadata": {},
   "outputs": [
    {
     "name": "stdout",
     "output_type": "stream",
     "text": [
      "4\n",
      "Date      2020-06-26 00:00:00\n",
      "Open                  1432.63\n",
      "High                  1437.02\n",
      "Low                    1355.0\n",
      "Close                 1362.54\n",
      "Volume                4882014\n",
      "Month                       6\n",
      "Year                     2020\n",
      "Name: 4, dtype: object\n"
     ]
    }
   ],
   "source": [
    "idx_min = df_google.Close.idxmin()\n",
    "print(idx_min)\n",
    "print(df_google.loc[idx_min])"
   ]
  },
  {
   "cell_type": "markdown",
   "id": "43b4f911-278b-4757-aeb5-138e31b91d17",
   "metadata": {},
   "source": [
    "## Zadanie 7"
   ]
  },
  {
   "cell_type": "markdown",
   "id": "2206f3de-0093-43d9-97a3-067acd6ebb0c",
   "metadata": {},
   "source": [
    "Wyodrębnij kolumny Date, Open, Close, Volume z obiektu google. Wydrukuj wynik do konsoli."
   ]
  },
  {
   "cell_type": "markdown",
   "id": "180e0ace-632e-4e81-acdf-96615cb821b8",
   "metadata": {},
   "source": [
    "### Miejsce na rozwiązanie"
   ]
  },
  {
   "cell_type": "code",
   "execution_count": 69,
   "id": "e62638d4-03cb-4bc0-afa8-5c41a47749ac",
   "metadata": {},
   "outputs": [
    {
     "name": "stdout",
     "output_type": "stream",
     "text": [
      "0    2020-07-02\n",
      "1    2020-07-01\n",
      "2    2020-06-30\n",
      "3    2020-06-29\n",
      "4    2020-06-26\n",
      "5    2020-06-25\n",
      "6    2020-06-24\n",
      "7    2020-06-23\n",
      "8    2020-06-22\n",
      "9    2020-06-19\n",
      "10   2020-06-18\n",
      "11   2020-06-17\n",
      "12   2020-06-16\n",
      "13   2020-06-15\n",
      "14   2020-06-12\n",
      "15   2020-06-11\n",
      "16   2020-06-10\n",
      "17   2020-06-09\n",
      "18   2020-06-08\n",
      "19   2020-06-05\n",
      "20   2020-06-04\n",
      "21   2020-06-03\n",
      "22   2020-06-02\n",
      "23   2020-06-01\n",
      "24   2020-05-29\n",
      "25   2020-05-28\n",
      "26   2020-05-27\n",
      "27   2020-05-26\n",
      "28   2020-05-22\n",
      "29   2020-05-21\n",
      "Name: Date, dtype: datetime64[ns]\n",
      "0     1451.84\n",
      "1     1419.17\n",
      "2     1396.88\n",
      "3     1360.34\n",
      "4     1432.63\n",
      "5     1431.22\n",
      "6     1463.28\n",
      "7     1452.00\n",
      "8     1425.01\n",
      "9     1440.00\n",
      "10    1449.85\n",
      "11    1452.94\n",
      "12    1449.00\n",
      "13    1389.49\n",
      "14    1425.86\n",
      "15    1441.03\n",
      "16    1461.51\n",
      "17    1445.24\n",
      "18    1426.28\n",
      "19    1415.64\n",
      "20    1436.78\n",
      "21    1442.70\n",
      "22    1435.00\n",
      "23    1425.70\n",
      "24    1420.43\n",
      "25    1400.00\n",
      "26    1420.00\n",
      "27    1441.96\n",
      "28    1403.90\n",
      "29    1410.99\n",
      "Name: Open, dtype: float64\n",
      "0     1469.93\n",
      "1     1442.00\n",
      "2     1418.05\n",
      "3     1397.17\n",
      "4     1362.54\n",
      "5     1441.10\n",
      "6     1432.70\n",
      "7     1463.98\n",
      "8     1450.66\n",
      "9     1424.64\n",
      "10    1434.12\n",
      "11    1452.54\n",
      "12    1446.47\n",
      "13    1420.74\n",
      "14    1412.92\n",
      "15    1401.90\n",
      "16    1464.70\n",
      "17    1452.08\n",
      "18    1448.04\n",
      "19    1440.02\n",
      "20    1414.30\n",
      "21    1439.25\n",
      "22    1442.31\n",
      "23    1434.87\n",
      "24    1433.52\n",
      "25    1418.24\n",
      "26    1420.28\n",
      "27    1421.37\n",
      "28    1413.24\n",
      "29    1406.75\n",
      "Name: Close, dtype: float64\n",
      "0     2860915\n",
      "1     2109124\n",
      "2     2014320\n",
      "3     2253678\n",
      "4     4882014\n",
      "5     1197907\n",
      "6     1579579\n",
      "7     1887583\n",
      "8     1472072\n",
      "9     2639167\n",
      "10    1743071\n",
      "11    1530500\n",
      "12    1534826\n",
      "13    1527652\n",
      "14    1833756\n",
      "15    2357243\n",
      "16    1588116\n",
      "17    1681155\n",
      "18    1693881\n",
      "19    2132350\n",
      "20    1349105\n",
      "21    1386640\n",
      "22    1172069\n",
      "23    1259254\n",
      "24    1852522\n",
      "25    1759787\n",
      "26    1584185\n",
      "27    2229488\n",
      "28    1427206\n",
      "29    1544976\n",
      "Name: Volume, dtype: int64\n"
     ]
    }
   ],
   "source": [
    "date = df_google.Date\n",
    "open = df_google.Open\n",
    "close = df_google.Close\n",
    "volume = df_google.Volume\n",
    "print(date)\n",
    "print(open)\n",
    "print(close)\n",
    "print(volume)"
   ]
  },
  {
   "cell_type": "markdown",
   "id": "cb8a3b43-dc8a-4222-a8ed-ae0b4af3abc7",
   "metadata": {},
   "source": [
    "## Zadanie 8"
   ]
  },
  {
   "cell_type": "markdown",
   "id": "40cecae3-8073-4a55-b98b-94ba40e49129",
   "metadata": {},
   "source": [
    "Ustaw indeks dla kolumny Date. Wydrukuj wynik do konsoli."
   ]
  },
  {
   "cell_type": "markdown",
   "id": "4236e670-8745-4486-8275-9cd363f63df0",
   "metadata": {},
   "source": [
    "### Miejsce na rozwiązanie"
   ]
  },
  {
   "cell_type": "code",
   "execution_count": 70,
   "id": "3f501ae7-def6-443e-885a-739d08f0702f",
   "metadata": {},
   "outputs": [
    {
     "name": "stdout",
     "output_type": "stream",
     "text": [
      "               Open       High        Low    Close   Volume  Month  Year\n",
      "Date                                                                    \n",
      "2020-07-02  1451.84  1488.5200  1451.0650  1469.93  2860915      7  2020\n",
      "2020-07-01  1419.17  1448.4800  1414.1800  1442.00  2109124      7  2020\n",
      "2020-06-30  1396.88  1424.0000  1386.9301  1418.05  2014320      6  2020\n",
      "2020-06-29  1360.34  1398.0000  1351.6500  1397.17  2253678      6  2020\n",
      "2020-06-26  1432.63  1437.0200  1355.0000  1362.54  4882014      6  2020\n",
      "2020-06-25  1431.22  1442.3200  1419.5401  1441.10  1197907      6  2020\n",
      "2020-06-24  1463.28  1475.7900  1430.0000  1432.70  1579579      6  2020\n",
      "2020-06-23  1452.00  1475.2000  1445.0000  1463.98  1887583      6  2020\n",
      "2020-06-22  1425.01  1450.9500  1419.1900  1450.66  1472072      6  2020\n",
      "2020-06-19  1440.00  1444.5000  1419.0000  1424.64  2639167      6  2020\n",
      "2020-06-18  1449.85  1452.9699  1426.2350  1434.12  1743071      6  2020\n",
      "2020-06-17  1452.94  1462.2000  1435.1250  1452.54  1530500      6  2020\n",
      "2020-06-16  1449.00  1457.1700  1428.9900  1446.47  1534826      6  2020\n",
      "2020-06-15  1389.49  1425.0000  1387.1952  1420.74  1527652      6  2020\n",
      "2020-06-12  1425.86  1434.5050  1385.8000  1412.92  1833756      6  2020\n",
      "2020-06-11  1441.03  1451.6033  1398.4100  1401.90  2357243      6  2020\n",
      "2020-06-10  1461.51  1472.7700  1454.3550  1464.70  1588116      6  2020\n",
      "2020-06-09  1445.24  1467.8000  1442.3600  1452.08  1681155      6  2020\n",
      "2020-06-08  1426.28  1449.0000  1424.4800  1448.04  1693881      6  2020\n",
      "2020-06-05  1415.64  1446.3000  1407.6213  1440.02  2132350      6  2020\n",
      "2020-06-04  1436.78  1441.3200  1406.0100  1414.30  1349105      6  2020\n",
      "2020-06-03  1442.70  1449.0100  1431.6200  1439.25  1386640      6  2020\n",
      "2020-06-02  1435.00  1443.0000  1421.6100  1442.31  1172069      6  2020\n",
      "2020-06-01  1425.70  1441.5800  1422.2800  1434.87  1259254      6  2020\n",
      "2020-05-29  1420.43  1436.7300  1415.9800  1433.52  1852522      5  2020\n",
      "2020-05-28  1400.00  1444.4600  1399.0760  1418.24  1759787      5  2020\n",
      "2020-05-27  1420.00  1425.3450  1394.6000  1420.28  1584185      5  2020\n",
      "2020-05-26  1441.96  1445.1100  1419.3950  1421.37  2229488      5  2020\n",
      "2020-05-22  1403.90  1417.0000  1395.9500  1413.24  1427206      5  2020\n",
      "2020-05-21  1410.99  1416.4600  1394.3900  1406.75  1544976      5  2020\n"
     ]
    }
   ],
   "source": [
    "df_google = df_google.set_index('Date')\n",
    "print(df_google)"
   ]
  },
  {
   "cell_type": "markdown",
   "id": "412c0809-5ca5-493c-aea3-c8b09fef5d63",
   "metadata": {},
   "source": [
    "## Zadanie 9"
   ]
  },
  {
   "cell_type": "markdown",
   "id": "a8576f71-d7b2-4c59-a2f4-8e9854763f20",
   "metadata": {},
   "source": [
    "Trwale usuń kolumny Year i Month z obiektu google. Wydrukuj zmienną google do konsoli."
   ]
  },
  {
   "cell_type": "markdown",
   "id": "7001c8e2-cae9-47ee-abbe-a643fbb8f186",
   "metadata": {},
   "source": [
    "### Miejsce na rozwiązanie"
   ]
  },
  {
   "cell_type": "code",
   "execution_count": 71,
   "id": "c15df673-4fcc-4f91-b759-ac422977d771",
   "metadata": {},
   "outputs": [
    {
     "name": "stdout",
     "output_type": "stream",
     "text": [
      "               Open       High        Low    Close   Volume\n",
      "Date                                                       \n",
      "2020-07-02  1451.84  1488.5200  1451.0650  1469.93  2860915\n",
      "2020-07-01  1419.17  1448.4800  1414.1800  1442.00  2109124\n",
      "2020-06-30  1396.88  1424.0000  1386.9301  1418.05  2014320\n",
      "2020-06-29  1360.34  1398.0000  1351.6500  1397.17  2253678\n",
      "2020-06-26  1432.63  1437.0200  1355.0000  1362.54  4882014\n",
      "2020-06-25  1431.22  1442.3200  1419.5401  1441.10  1197907\n",
      "2020-06-24  1463.28  1475.7900  1430.0000  1432.70  1579579\n",
      "2020-06-23  1452.00  1475.2000  1445.0000  1463.98  1887583\n",
      "2020-06-22  1425.01  1450.9500  1419.1900  1450.66  1472072\n",
      "2020-06-19  1440.00  1444.5000  1419.0000  1424.64  2639167\n",
      "2020-06-18  1449.85  1452.9699  1426.2350  1434.12  1743071\n",
      "2020-06-17  1452.94  1462.2000  1435.1250  1452.54  1530500\n",
      "2020-06-16  1449.00  1457.1700  1428.9900  1446.47  1534826\n",
      "2020-06-15  1389.49  1425.0000  1387.1952  1420.74  1527652\n",
      "2020-06-12  1425.86  1434.5050  1385.8000  1412.92  1833756\n",
      "2020-06-11  1441.03  1451.6033  1398.4100  1401.90  2357243\n",
      "2020-06-10  1461.51  1472.7700  1454.3550  1464.70  1588116\n",
      "2020-06-09  1445.24  1467.8000  1442.3600  1452.08  1681155\n",
      "2020-06-08  1426.28  1449.0000  1424.4800  1448.04  1693881\n",
      "2020-06-05  1415.64  1446.3000  1407.6213  1440.02  2132350\n",
      "2020-06-04  1436.78  1441.3200  1406.0100  1414.30  1349105\n",
      "2020-06-03  1442.70  1449.0100  1431.6200  1439.25  1386640\n",
      "2020-06-02  1435.00  1443.0000  1421.6100  1442.31  1172069\n",
      "2020-06-01  1425.70  1441.5800  1422.2800  1434.87  1259254\n",
      "2020-05-29  1420.43  1436.7300  1415.9800  1433.52  1852522\n",
      "2020-05-28  1400.00  1444.4600  1399.0760  1418.24  1759787\n",
      "2020-05-27  1420.00  1425.3450  1394.6000  1420.28  1584185\n",
      "2020-05-26  1441.96  1445.1100  1419.3950  1421.37  2229488\n",
      "2020-05-22  1403.90  1417.0000  1395.9500  1413.24  1427206\n",
      "2020-05-21  1410.99  1416.4600  1394.3900  1406.75  1544976\n"
     ]
    }
   ],
   "source": [
    "df_google = df_google.drop(['Year','Month'], axis=1)\n",
    "print(df_google)"
   ]
  },
  {
   "cell_type": "markdown",
   "id": "e3f8f22e-414b-4d93-bfff-56aecfa4f423",
   "metadata": {},
   "source": [
    "## Zadanie 10"
   ]
  },
  {
   "cell_type": "markdown",
   "id": "ce16893f-f3cd-44e5-b7f1-8156fd3226c6",
   "metadata": {},
   "source": [
    "Zamień następujące nazwy kolumn w zmiennej google:\n",
    " - Open -> O\n",
    " - High -> H\n",
    " - Low -> L\n",
    " - Close -> C\n",
    " - Volume -> V\n",
    "\n",
    "Wydrukuj wynik do konsoli."
   ]
  },
  {
   "cell_type": "markdown",
   "id": "59c0d570-1015-4caf-9823-6700b43d8b9b",
   "metadata": {},
   "source": [
    "### Miejsce na rozwiązanie"
   ]
  },
  {
   "cell_type": "code",
   "execution_count": 77,
   "id": "eaf79cb5-b363-4261-9c66-5db0f4f9c164",
   "metadata": {},
   "outputs": [
    {
     "name": "stdout",
     "output_type": "stream",
     "text": [
      "                  O          H          L        C        V\n",
      "Date                                                       \n",
      "2020-07-02  1451.84  1488.5200  1451.0650  1469.93  2860915\n",
      "2020-07-01  1419.17  1448.4800  1414.1800  1442.00  2109124\n",
      "2020-06-30  1396.88  1424.0000  1386.9301  1418.05  2014320\n",
      "2020-06-29  1360.34  1398.0000  1351.6500  1397.17  2253678\n",
      "2020-06-26  1432.63  1437.0200  1355.0000  1362.54  4882014\n",
      "2020-06-25  1431.22  1442.3200  1419.5401  1441.10  1197907\n",
      "2020-06-24  1463.28  1475.7900  1430.0000  1432.70  1579579\n",
      "2020-06-23  1452.00  1475.2000  1445.0000  1463.98  1887583\n",
      "2020-06-22  1425.01  1450.9500  1419.1900  1450.66  1472072\n",
      "2020-06-19  1440.00  1444.5000  1419.0000  1424.64  2639167\n",
      "2020-06-18  1449.85  1452.9699  1426.2350  1434.12  1743071\n",
      "2020-06-17  1452.94  1462.2000  1435.1250  1452.54  1530500\n",
      "2020-06-16  1449.00  1457.1700  1428.9900  1446.47  1534826\n",
      "2020-06-15  1389.49  1425.0000  1387.1952  1420.74  1527652\n",
      "2020-06-12  1425.86  1434.5050  1385.8000  1412.92  1833756\n",
      "2020-06-11  1441.03  1451.6033  1398.4100  1401.90  2357243\n",
      "2020-06-10  1461.51  1472.7700  1454.3550  1464.70  1588116\n",
      "2020-06-09  1445.24  1467.8000  1442.3600  1452.08  1681155\n",
      "2020-06-08  1426.28  1449.0000  1424.4800  1448.04  1693881\n",
      "2020-06-05  1415.64  1446.3000  1407.6213  1440.02  2132350\n",
      "2020-06-04  1436.78  1441.3200  1406.0100  1414.30  1349105\n",
      "2020-06-03  1442.70  1449.0100  1431.6200  1439.25  1386640\n",
      "2020-06-02  1435.00  1443.0000  1421.6100  1442.31  1172069\n",
      "2020-06-01  1425.70  1441.5800  1422.2800  1434.87  1259254\n",
      "2020-05-29  1420.43  1436.7300  1415.9800  1433.52  1852522\n",
      "2020-05-28  1400.00  1444.4600  1399.0760  1418.24  1759787\n",
      "2020-05-27  1420.00  1425.3450  1394.6000  1420.28  1584185\n",
      "2020-05-26  1441.96  1445.1100  1419.3950  1421.37  2229488\n",
      "2020-05-22  1403.90  1417.0000  1395.9500  1413.24  1427206\n",
      "2020-05-21  1410.99  1416.4600  1394.3900  1406.75  1544976\n"
     ]
    }
   ],
   "source": [
    "names_dict = { 'Open':'O','Close' :'C','High':'H','Low':'L','Volume':'V'}\n",
    "df_google = df_google.rename(columns= names_dict)\n",
    "print(df_google)"
   ]
  },
  {
   "cell_type": "markdown",
   "id": "f36563ca-b7c3-438b-b361-0f75cd6119ed",
   "metadata": {},
   "source": [
    "#### Utworzony w zadanu 11 df będzie potrzebny do realizacji pozostałych zadań"
   ]
  },
  {
   "cell_type": "markdown",
   "id": "40c8d395-9b1b-4b0d-ae4f-6a589ddb3e03",
   "metadata": {},
   "source": [
    "## Zadanie 11"
   ]
  },
  {
   "cell_type": "markdown",
   "id": "87754ba8-641b-4dec-8bb6-6841f442f2aa",
   "metadata": {},
   "source": [
    "Załaduj plik csv do obiektu DataFrame o nazwie df z domyślnymi parametrami funkcji pd.read_csv() i wyświetl pierwsze 5 wierszy. Adres URL do pliku:\n",
    " - https://ml-repository-krakers.s3-eu-west-1.amazonaws.com/kaggle+/churn_modelling/Telco-Customer-Churn.csv"
   ]
  },
  {
   "cell_type": "markdown",
   "id": "2d7581b4-c775-4bc6-92b7-c4a0388ff220",
   "metadata": {},
   "source": [
    "Uwaga: Plik należy załadować bezpośrednio z adresu URL"
   ]
  },
  {
   "cell_type": "markdown",
   "id": "a22498f3-af7a-423f-b48d-fc510cbd63bf",
   "metadata": {},
   "source": [
    "### Miejsce na rozwiązanie"
   ]
  },
  {
   "cell_type": "code",
   "execution_count": 3,
   "id": "f3aebc95-bfe1-4d1b-b006-e7bfc9d56e81",
   "metadata": {},
   "outputs": [
    {
     "name": "stdout",
     "output_type": "stream",
     "text": [
      "<class 'pandas.core.frame.DataFrame'>\n",
      "RangeIndex: 7043 entries, 0 to 7042\n",
      "Data columns (total 21 columns):\n",
      " #   Column            Non-Null Count  Dtype  \n",
      "---  ------            --------------  -----  \n",
      " 0   customerID        7043 non-null   object \n",
      " 1   gender            7043 non-null   object \n",
      " 2   SeniorCitizen     7043 non-null   int64  \n",
      " 3   Partner           7043 non-null   object \n",
      " 4   Dependents        7043 non-null   object \n",
      " 5   tenure            7043 non-null   int64  \n",
      " 6   PhoneService      7043 non-null   object \n",
      " 7   MultipleLines     7043 non-null   object \n",
      " 8   InternetService   7043 non-null   object \n",
      " 9   OnlineSecurity    7043 non-null   object \n",
      " 10  OnlineBackup      7043 non-null   object \n",
      " 11  DeviceProtection  7043 non-null   object \n",
      " 12  TechSupport       7043 non-null   object \n",
      " 13  StreamingTV       7043 non-null   object \n",
      " 14  StreamingMovies   7043 non-null   object \n",
      " 15  Contract          7043 non-null   object \n",
      " 16  PaperlessBilling  7043 non-null   object \n",
      " 17  PaymentMethod     7043 non-null   object \n",
      " 18  MonthlyCharges    7043 non-null   float64\n",
      " 19  TotalCharges      7043 non-null   object \n",
      " 20  Churn             7043 non-null   object \n",
      "dtypes: float64(1), int64(2), object(18)\n",
      "memory usage: 1.1+ MB\n",
      "None\n",
      "   customerID  gender  SeniorCitizen Partner Dependents  tenure PhoneService   \n",
      "0  7590-VHVEG  Female              0     Yes         No       1           No  \\\n",
      "1  5575-GNVDE    Male              0      No         No      34          Yes   \n",
      "2  3668-QPYBK    Male              0      No         No       2          Yes   \n",
      "3  7795-CFOCW    Male              0      No         No      45           No   \n",
      "4  9237-HQITU  Female              0      No         No       2          Yes   \n",
      "\n",
      "      MultipleLines InternetService OnlineSecurity  ... DeviceProtection   \n",
      "0  No phone service             DSL             No  ...               No  \\\n",
      "1                No             DSL            Yes  ...              Yes   \n",
      "2                No             DSL            Yes  ...               No   \n",
      "3  No phone service             DSL            Yes  ...              Yes   \n",
      "4                No     Fiber optic             No  ...               No   \n",
      "\n",
      "  TechSupport StreamingTV StreamingMovies        Contract PaperlessBilling   \n",
      "0          No          No              No  Month-to-month              Yes  \\\n",
      "1          No          No              No        One year               No   \n",
      "2          No          No              No  Month-to-month              Yes   \n",
      "3         Yes          No              No        One year               No   \n",
      "4          No          No              No  Month-to-month              Yes   \n",
      "\n",
      "               PaymentMethod MonthlyCharges  TotalCharges Churn  \n",
      "0           Electronic check          29.85         29.85    No  \n",
      "1               Mailed check          56.95        1889.5    No  \n",
      "2               Mailed check          53.85        108.15   Yes  \n",
      "3  Bank transfer (automatic)          42.30       1840.75    No  \n",
      "4           Electronic check          70.70        151.65   Yes  \n",
      "\n",
      "[5 rows x 21 columns]\n"
     ]
    }
   ],
   "source": [
    "df = pd.read_csv('https://ml-repository-krakers.s3-eu-west-1.amazonaws.com/kaggle+/churn_modelling/Telco-Customer-Churn.csv')\n",
    "print(df.info())\n",
    "print(df.head())"
   ]
  },
  {
   "cell_type": "markdown",
   "id": "621d160c-67b7-4fde-ac24-a1b6e051d3f7",
   "metadata": {},
   "source": [
    "## Zadanie 12"
   ]
  },
  {
   "cell_type": "markdown",
   "id": "9175d71e-9b6e-4e17-8ef1-dc1039dfd977",
   "metadata": {},
   "source": [
    " Określ liczbę brakujących elementów (np.nan) w obiekcie df (z zadania 11) dla każdej zmiennej. Wydrukuj wynik do konsoli."
   ]
  },
  {
   "cell_type": "markdown",
   "id": "f3db7f27-1bf9-46a6-8dd9-fa27086ddfc0",
   "metadata": {},
   "source": [
    "### Miejsce na rozwiązanie"
   ]
  },
  {
   "cell_type": "code",
   "execution_count": 4,
   "id": "18bc64ea-8320-4477-a5b1-7b21370f2981",
   "metadata": {},
   "outputs": [
    {
     "name": "stdout",
     "output_type": "stream",
     "text": [
      "customerID          0\n",
      "gender              0\n",
      "SeniorCitizen       0\n",
      "Partner             0\n",
      "Dependents          0\n",
      "tenure              0\n",
      "PhoneService        0\n",
      "MultipleLines       0\n",
      "InternetService     0\n",
      "OnlineSecurity      0\n",
      "OnlineBackup        0\n",
      "DeviceProtection    0\n",
      "TechSupport         0\n",
      "StreamingTV         0\n",
      "StreamingMovies     0\n",
      "Contract            0\n",
      "PaperlessBilling    0\n",
      "PaymentMethod       0\n",
      "MonthlyCharges      0\n",
      "TotalCharges        0\n",
      "Churn               0\n",
      "dtype: int64 \n",
      "\n"
     ]
    }
   ],
   "source": [
    "import numpy as np\n",
    "brakujace_elementy = df.isnull().sum()\n",
    "print(brakujace_elementy, '\\n')"
   ]
  },
  {
   "cell_type": "markdown",
   "id": "9a90f7c0-5a68-41db-872a-eb0f66161d17",
   "metadata": {},
   "source": [
    "## Zadanie 13"
   ]
  },
  {
   "cell_type": "markdown",
   "id": "2944063f-14db-42b2-9045-b074dfd10ea8",
   "metadata": {},
   "source": [
    "Zwróć uwagę na kolumnę TotalCharges. Typ tej kolumny to object. Spróbuj zgadnąć, dlaczego tak się stało. Przyczynę opisz w komórce poniżej."
   ]
  },
  {
   "cell_type": "markdown",
   "id": "1778b1de-7d0f-49fa-ad82-63525ac4f729",
   "metadata": {},
   "source": []
  },
  {
   "cell_type": "markdown",
   "id": "a30a3f1e-3e64-49d9-ace9-4870cba9f7a9",
   "metadata": {},
   "source": [
    "Nasępnie spróbuj zastąpić brakujące wartości kolumny TotalCharges jej medianą. Wydrukuj rozkład zmiennej TotalCharges do konsoli."
   ]
  },
  {
   "cell_type": "markdown",
   "id": "0f9bd4dc-2f1a-42b2-a7e7-ed3020d30b7d",
   "metadata": {},
   "source": [
    "### Miejsce na rozwiązanie"
   ]
  },
  {
   "cell_type": "code",
   "execution_count": 5,
   "id": "5242c1a3-2f60-4f0c-aa8d-aae773184c04",
   "metadata": {},
   "outputs": [
    {
     "name": "stdout",
     "output_type": "stream",
     "text": [
      "customerID             0\n",
      "gender                 0\n",
      "SeniorCitizen       5901\n",
      "Partner                0\n",
      "Dependents             0\n",
      "tenure                11\n",
      "PhoneService           0\n",
      "MultipleLines          0\n",
      "InternetService        0\n",
      "OnlineSecurity         0\n",
      "OnlineBackup           0\n",
      "DeviceProtection       0\n",
      "TechSupport            0\n",
      "StreamingTV            0\n",
      "StreamingMovies        0\n",
      "Contract               0\n",
      "PaperlessBilling       0\n",
      "PaymentMethod          0\n",
      "MonthlyCharges         0\n",
      "TotalCharges           0\n",
      "Churn                  0\n",
      "dtype: int64 \n",
      "\n",
      "TotalCharges\n",
      "1397.475    11\n",
      "20.200      11\n",
      "19.750       9\n",
      "20.050       8\n",
      "19.900       8\n",
      "            ..\n",
      "6849.400     1\n",
      "692.350      1\n",
      "130.150      1\n",
      "3211.900     1\n",
      "6844.500     1\n",
      "Name: count, Length: 6531, dtype: int64\n"
     ]
    }
   ],
   "source": [
    "df['TotalCharges'] = pd.to_numeric(df['TotalCharges'], errors='coerce')\n",
    "zera = (df == 0).sum()\n",
    "print(zera, '\\n')\n",
    "\n",
    "median_total_charges = df['TotalCharges'].median()\n",
    "\n",
    "df['TotalCharges'].fillna(median_total_charges, inplace=True)\n",
    "\n",
    "rozkład_total_charges = df['TotalCharges'].value_counts()\n",
    "print(rozkład_total_charges)"
   ]
  },
  {
   "cell_type": "markdown",
   "id": "5443adbd-bcec-42e4-8d66-5fc566dc05c7",
   "metadata": {},
   "source": [
    "## Zadanie 14"
   ]
  },
  {
   "cell_type": "markdown",
   "id": "2c9c3c1c-2947-4aab-9845-5569e363d765",
   "metadata": {},
   "source": [
    "Zamień typ kolumn z listy categorical na typ category oraz kolumny z listy numerical na typ float.\n",
    "\n",
    "W odpowiedzi wydrukuj informacje o obiekcie df do konsoli."
   ]
  },
  {
   "cell_type": "code",
   "execution_count": 6,
   "id": "abe2d882-5210-4a32-b009-99efba54797d",
   "metadata": {},
   "outputs": [],
   "source": [
    "categorical = [\n",
    "    'gender',\n",
    "    'SeniorCitizen',\n",
    "    'Partner',\n",
    "    'Dependents',\n",
    "    'PhoneService',\n",
    "    'MultipleLines',\n",
    "    'InternetService',\n",
    "    'OnlineSecurity',\n",
    "    'OnlineBackup',\n",
    "    'DeviceProtection',\n",
    "    'TechSupport',\n",
    "    'StreamingTV',\n",
    "    'Contract',\n",
    "    'StreamingMovies',\n",
    "    'PaperlessBilling',\n",
    "    'PaymentMethod',\n",
    "    'Churn',\n",
    "]"
   ]
  },
  {
   "cell_type": "code",
   "execution_count": 7,
   "id": "a1c3bb98-a6da-4939-b586-6e51751984d2",
   "metadata": {},
   "outputs": [],
   "source": [
    "numerical = ['tenure', 'MonthlyCharges']"
   ]
  },
  {
   "cell_type": "markdown",
   "id": "03ba34bd-a9d8-47ec-bb75-b12c13642902",
   "metadata": {},
   "source": [
    "### Miejsce na rozwiązanie"
   ]
  },
  {
   "cell_type": "code",
   "execution_count": 8,
   "id": "87e3bd90-cbda-4c8b-807a-75508c8602ce",
   "metadata": {},
   "outputs": [
    {
     "name": "stdout",
     "output_type": "stream",
     "text": [
      "<class 'pandas.core.frame.DataFrame'>\n",
      "RangeIndex: 7043 entries, 0 to 7042\n",
      "Data columns (total 21 columns):\n",
      " #   Column            Non-Null Count  Dtype   \n",
      "---  ------            --------------  -----   \n",
      " 0   customerID        7043 non-null   object  \n",
      " 1   gender            7043 non-null   category\n",
      " 2   SeniorCitizen     7043 non-null   category\n",
      " 3   Partner           7043 non-null   category\n",
      " 4   Dependents        7043 non-null   category\n",
      " 5   tenure            7043 non-null   float64 \n",
      " 6   PhoneService      7043 non-null   category\n",
      " 7   MultipleLines     7043 non-null   category\n",
      " 8   InternetService   7043 non-null   category\n",
      " 9   OnlineSecurity    7043 non-null   category\n",
      " 10  OnlineBackup      7043 non-null   category\n",
      " 11  DeviceProtection  7043 non-null   category\n",
      " 12  TechSupport       7043 non-null   category\n",
      " 13  StreamingTV       7043 non-null   category\n",
      " 14  StreamingMovies   7043 non-null   category\n",
      " 15  Contract          7043 non-null   category\n",
      " 16  PaperlessBilling  7043 non-null   category\n",
      " 17  PaymentMethod     7043 non-null   category\n",
      " 18  MonthlyCharges    7043 non-null   float64 \n",
      " 19  TotalCharges      7043 non-null   float64 \n",
      " 20  Churn             7043 non-null   category\n",
      "dtypes: category(17), float64(3), object(1)\n",
      "memory usage: 339.4+ KB\n",
      "None\n"
     ]
    }
   ],
   "source": [
    "\n",
    "df[categorical] = df[categorical].astype('category')\n",
    "\n",
    "df[numerical] = df[numerical].astype(float)\n",
    "\n",
    "print(df.info())"
   ]
  },
  {
   "cell_type": "markdown",
   "id": "d4a21030-e3ca-4db8-a48c-0aff134c5f6c",
   "metadata": {},
   "source": [
    "## Zadanie 15"
   ]
  },
  {
   "cell_type": "markdown",
   "id": "d359c3a2-f161-42cc-95c7-e16f6cf703da",
   "metadata": {},
   "source": [
    "Wyświetl podstawowe statystyki zmiennych kategorialnych przekazując odpowiedni parametr include metody `pd.DataFrame.describe()`. Wydrukuj wynik do konsoli."
   ]
  },
  {
   "cell_type": "markdown",
   "id": "a6ed76fb-7807-459e-9d8b-7f02cad7042d",
   "metadata": {},
   "source": [
    "### Miejsce na rozwiązanie"
   ]
  },
  {
   "cell_type": "code",
   "execution_count": 9,
   "id": "a379acd0-8672-40ba-a45e-de5593c090bd",
   "metadata": {},
   "outputs": [
    {
     "name": "stdout",
     "output_type": "stream",
     "text": [
      "        customerID gender  SeniorCitizen Partner Dependents       tenure   \n",
      "count         7043   7043         7043.0    7043       7043  7043.000000  \\\n",
      "unique        7043      2            2.0       2          2          NaN   \n",
      "top     7590-VHVEG   Male            0.0      No         No          NaN   \n",
      "freq             1   3555         5901.0    3641       4933          NaN   \n",
      "mean           NaN    NaN            NaN     NaN        NaN    32.371149   \n",
      "std            NaN    NaN            NaN     NaN        NaN    24.559481   \n",
      "min            NaN    NaN            NaN     NaN        NaN     0.000000   \n",
      "25%            NaN    NaN            NaN     NaN        NaN     9.000000   \n",
      "50%            NaN    NaN            NaN     NaN        NaN    29.000000   \n",
      "75%            NaN    NaN            NaN     NaN        NaN    55.000000   \n",
      "max            NaN    NaN            NaN     NaN        NaN    72.000000   \n",
      "\n",
      "       PhoneService MultipleLines InternetService OnlineSecurity  ...   \n",
      "count          7043          7043            7043           7043  ...  \\\n",
      "unique            2             3               3              3  ...   \n",
      "top             Yes            No     Fiber optic             No  ...   \n",
      "freq           6361          3390            3096           3498  ...   \n",
      "mean            NaN           NaN             NaN            NaN  ...   \n",
      "std             NaN           NaN             NaN            NaN  ...   \n",
      "min             NaN           NaN             NaN            NaN  ...   \n",
      "25%             NaN           NaN             NaN            NaN  ...   \n",
      "50%             NaN           NaN             NaN            NaN  ...   \n",
      "75%             NaN           NaN             NaN            NaN  ...   \n",
      "max             NaN           NaN             NaN            NaN  ...   \n",
      "\n",
      "       DeviceProtection TechSupport StreamingTV StreamingMovies   \n",
      "count              7043        7043        7043            7043  \\\n",
      "unique                3           3           3               3   \n",
      "top                  No          No          No              No   \n",
      "freq               3095        3473        2810            2785   \n",
      "mean                NaN         NaN         NaN             NaN   \n",
      "std                 NaN         NaN         NaN             NaN   \n",
      "min                 NaN         NaN         NaN             NaN   \n",
      "25%                 NaN         NaN         NaN             NaN   \n",
      "50%                 NaN         NaN         NaN             NaN   \n",
      "75%                 NaN         NaN         NaN             NaN   \n",
      "max                 NaN         NaN         NaN             NaN   \n",
      "\n",
      "              Contract PaperlessBilling     PaymentMethod MonthlyCharges   \n",
      "count             7043             7043              7043    7043.000000  \\\n",
      "unique               3                2                 4            NaN   \n",
      "top     Month-to-month              Yes  Electronic check            NaN   \n",
      "freq              3875             4171              2365            NaN   \n",
      "mean               NaN              NaN               NaN      64.761692   \n",
      "std                NaN              NaN               NaN      30.090047   \n",
      "min                NaN              NaN               NaN      18.250000   \n",
      "25%                NaN              NaN               NaN      35.500000   \n",
      "50%                NaN              NaN               NaN      70.350000   \n",
      "75%                NaN              NaN               NaN      89.850000   \n",
      "max                NaN              NaN               NaN     118.750000   \n",
      "\n",
      "        TotalCharges  Churn  \n",
      "count    7043.000000   7043  \n",
      "unique           NaN      2  \n",
      "top              NaN     No  \n",
      "freq             NaN   5174  \n",
      "mean     2281.916928    NaN  \n",
      "std      2265.270398    NaN  \n",
      "min        18.800000    NaN  \n",
      "25%       402.225000    NaN  \n",
      "50%      1397.475000    NaN  \n",
      "75%      3786.600000    NaN  \n",
      "max      8684.800000    NaN  \n",
      "\n",
      "[11 rows x 21 columns]\n"
     ]
    }
   ],
   "source": [
    "print(df.describe(include='all'))"
   ]
  },
  {
   "cell_type": "markdown",
   "id": "8d23b0a7-5295-489d-b485-94fc60753bf0",
   "metadata": {},
   "source": [
    "## Zadanie 16"
   ]
  },
  {
   "cell_type": "markdown",
   "id": "d5f5b3ac-96df-4aa0-910d-44eb22f4728a",
   "metadata": {},
   "source": [
    "Znajdź rozkład wartości dla zmiennej Churn. Wydrukuj wynik do konsoli."
   ]
  },
  {
   "cell_type": "markdown",
   "id": "8cdab252-6426-4865-ad23-a4e10435ffe7",
   "metadata": {},
   "source": [
    "### Miejsce na rozwiązanie"
   ]
  },
  {
   "cell_type": "code",
   "execution_count": 10,
   "id": "75f9e9f2-1147-4183-849a-e95712f0df37",
   "metadata": {},
   "outputs": [
    {
     "name": "stdout",
     "output_type": "stream",
     "text": [
      "Churn\n",
      "No     5174\n",
      "Yes    1869\n",
      "Name: count, dtype: int64\n"
     ]
    }
   ],
   "source": [
    "rozkład_churn = df['Churn'].value_counts()\n",
    "print(rozkład_churn)"
   ]
  },
  {
   "cell_type": "markdown",
   "id": "f6864e47-7b99-4720-8671-6158a66b359c",
   "metadata": {},
   "source": [
    "## Zadanie 17"
   ]
  },
  {
   "cell_type": "markdown",
   "id": "6aeda85c-27a0-43a8-b300-ef5d38782345",
   "metadata": {},
   "source": [
    "Pogrupuj dane na poziomie zmiennych `Churn` oraz `PaymentMethod` i oblicz średnią wartość zmiennej `MonthlyCharges`. Wydrukuj wynik do konsoli."
   ]
  },
  {
   "cell_type": "markdown",
   "id": "122f809f-e36b-4fce-84ab-e77c832b032b",
   "metadata": {},
   "source": [
    "### Miejsce na rozwiązanie"
   ]
  },
  {
   "cell_type": "code",
   "execution_count": 11,
   "id": "b00b0e02-7bea-47fa-aca6-3ee38796ff16",
   "metadata": {},
   "outputs": [
    {
     "name": "stdout",
     "output_type": "stream",
     "text": [
      "Churn  PaymentMethod            \n",
      "No     Bank transfer (automatic)    65.049417\n",
      "       Credit card (automatic)      64.562209\n",
      "       Electronic check             74.232032\n",
      "       Mailed check                 41.403911\n",
      "Yes    Bank transfer (automatic)    77.875581\n",
      "       Credit card (automatic)      77.356034\n",
      "       Electronic check             78.700980\n",
      "       Mailed check                 54.557143\n",
      "Name: MonthlyCharges, dtype: float64\n"
     ]
    }
   ],
   "source": [
    "grupowane_dane = df.groupby(['Churn', 'PaymentMethod'])\n",
    "\n",
    "srednia_monthly_charges = grupowane_dane['MonthlyCharges'].mean()\n",
    "\n",
    "print(srednia_monthly_charges)"
   ]
  },
  {
   "cell_type": "markdown",
   "id": "7ec80ab0-7441-4a42-9fbb-f3e168016925",
   "metadata": {},
   "source": [
    "## Zadanie 18"
   ]
  },
  {
   "cell_type": "markdown",
   "id": "7e02609d-1c6a-4b3e-bf70-7c368c67ac59",
   "metadata": {},
   "source": [
    "Zmapuj odpowiednio kolumnę Churn:\n",
    " - `Yes` -> 1\n",
    " - `No` -> 0\n",
    " Wynik wydrukuj w konsoli dla pierwszych 5 wierszy."
   ]
  },
  {
   "cell_type": "markdown",
   "id": "5c024c06-3da6-46d6-8112-38e01d7bf626",
   "metadata": {},
   "source": [
    "### Miejsce na rozwiązanie"
   ]
  },
  {
   "cell_type": "code",
   "execution_count": 12,
   "id": "f4b10eb7-3528-4add-8564-9a56514247ee",
   "metadata": {},
   "outputs": [
    {
     "name": "stdout",
     "output_type": "stream",
     "text": [
      "0    0\n",
      "1    0\n",
      "2    1\n",
      "3    0\n",
      "4    1\n",
      "Name: Churn, dtype: category\n",
      "Categories (2, int64): [0, 1]\n"
     ]
    }
   ],
   "source": [
    "mapowanie_churn = {'Yes': 1, 'No': 0}\n",
    "df['Churn'] = df['Churn'].map(mapowanie_churn)\n",
    "print(df['Churn'].head())"
   ]
  },
  {
   "cell_type": "markdown",
   "id": "f1738680-5ddd-4a0d-bcf9-50a55d52a077",
   "metadata": {},
   "source": [
    "## Zadanie 19"
   ]
  },
  {
   "cell_type": "markdown",
   "id": "4c00e381-3525-4da1-acaf-894320b9ad52",
   "metadata": {},
   "source": [
    "Oblicz macierz korelacji dla obiektu df. Wydrukuj wynik do konsoli."
   ]
  },
  {
   "cell_type": "markdown",
   "id": "93d1fc98-9a7e-4efa-9058-e6b38b8b0744",
   "metadata": {},
   "source": [
    "### Miejsce na rozwiązanie"
   ]
  },
  {
   "cell_type": "code",
   "execution_count": 14,
   "id": "07a97777-7760-4719-a903-c1a01a07e226",
   "metadata": {},
   "outputs": [
    {
     "name": "stdout",
     "output_type": "stream",
     "text": [
      "                  tenure  MonthlyCharges  TotalCharges\n",
      "tenure          1.000000        0.247900      0.825464\n",
      "MonthlyCharges  0.247900        1.000000      0.650864\n",
      "TotalCharges    0.825464        0.650864      1.000000\n"
     ]
    }
   ],
   "source": [
    "df_numeryczne = df.select_dtypes(include='number')\n",
    "macierz_korelacji = df_numeryczne.corr()\n",
    "print(macierz_korelacji)"
   ]
  },
  {
   "cell_type": "markdown",
   "id": "dde2a0bd-1a0c-4add-8443-37476bfe9028",
   "metadata": {},
   "source": [
    "## Zadanie 20"
   ]
  },
  {
   "cell_type": "markdown",
   "id": "e5903f41-0fff-4adf-aeb7-f30eb4ba5182",
   "metadata": {},
   "source": [
    "Pobierz próbkę 10 wierszy z obiektu df i zapisz do pliku `sample_10.csv`."
   ]
  },
  {
   "cell_type": "markdown",
   "id": "4ea15aeb-e3f4-4817-a8c8-5bae2a6a40cc",
   "metadata": {},
   "source": [
    "### Miejsce na rozwiązanie"
   ]
  },
  {
   "cell_type": "code",
   "execution_count": 122,
   "id": "c5bb82c0-5bd9-450f-b067-1819fee0b891",
   "metadata": {},
   "outputs": [
    {
     "name": "stdout",
     "output_type": "stream",
     "text": [
      "Plik 'sample_10.csv' został zapisany.\n"
     ]
    }
   ],
   "source": [
    "probka = df.sample(10)\n",
    "\n",
    "probka.to_csv('sample_10.csv')\n",
    "\n",
    "print(\"Plik 'sample_10.csv' został zapisany.\")"
   ]
  },
  {
   "cell_type": "markdown",
   "metadata": {},
   "source": [
    "Wnioski:\n",
    "Biblioteka pandas w języku Python jest niezwykle użytecznym narzędziem do manipulacji i analizy danych. \n",
    "Na tych zajęciach poznałem łatwe do zrozumienia funkcionalności, takim jak wybieranie, filtrowanie i grupowanie, co ułatwia pracę z danymi.\n",
    "Pandas umożliwia również efektywne przetwarzanie brakujących danych oraz szybkie wczytywanie i zapisywanie danych w różnych formatach,\n",
    "co jest szczególnie przydatne przy przygotowaniu danych dla uczenia meszynowego, lub ich persystancji."
   ]
  }
 ],
 "metadata": {
  "kernelspec": {
   "display_name": "Python 3 (ipykernel)",
   "language": "python",
   "name": "python3"
  },
  "language_info": {
   "codemirror_mode": {
    "name": "ipython",
    "version": 3
   },
   "file_extension": ".py",
   "mimetype": "text/x-python",
   "name": "python",
   "nbconvert_exporter": "python",
   "pygments_lexer": "ipython3",
   "version": "3.10.10"
  }
 },
 "nbformat": 4,
 "nbformat_minor": 5
}
